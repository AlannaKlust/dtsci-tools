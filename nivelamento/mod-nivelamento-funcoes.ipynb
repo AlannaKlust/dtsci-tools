{
 "cells": [
  {
   "cell_type": "markdown",
   "metadata": {},
   "source": [
    "# Funções\n",
    "\n",
    "___\n",
    "\n",
    "Funções são blocos de código que só rodam quando são chamados. Informação pode ser inputada nas funções utilizando parâmetros. Um função pode ter vários parâmetros. A utilização de funções é algo importante na ciência de dados, principalmente para automatização de atividades de feature engineering, por exemplo. Toda função em python é criada utilizando a palavra reservada 'def'."
   ]
  },
  {
   "cell_type": "code",
   "execution_count": 1,
   "metadata": {},
   "outputs": [],
   "source": [
    "## definindo a função hello\n",
    "\n",
    "def hello(name):\n",
    "    print('Hello,',name)"
   ]
  },
  {
   "cell_type": "code",
   "execution_count": 2,
   "metadata": {},
   "outputs": [
    {
     "name": "stdout",
     "output_type": "stream",
     "text": [
      "Hello, nasser\n",
      "Hello, joão\n",
      "Hello, maria\n"
     ]
    }
   ],
   "source": [
    "## utilizando a função hello com loop for\n",
    "\n",
    "ls = ['nasser','joão','maria']\n",
    "\n",
    "for name in ls:\n",
    "    hello(name)"
   ]
  },
  {
   "cell_type": "code",
   "execution_count": 3,
   "metadata": {},
   "outputs": [],
   "source": [
    "## definindo a função square\n",
    "\n",
    "def square(number):\n",
    "    print(number**2)"
   ]
  },
  {
   "cell_type": "code",
   "execution_count": 4,
   "metadata": {},
   "outputs": [
    {
     "name": "stdout",
     "output_type": "stream",
     "text": [
      "100\n",
      "121\n",
      "144\n",
      "169\n",
      "196\n",
      "225\n",
      "256\n",
      "289\n",
      "324\n",
      "361\n",
      "400\n"
     ]
    }
   ],
   "source": [
    "## usando a função square com \n",
    "\n",
    "for number in range(10,21):\n",
    "    square(number)"
   ]
  },
  {
   "cell_type": "code",
   "execution_count": 5,
   "metadata": {},
   "outputs": [],
   "source": [
    "## definindo uma função que recebe uma lista\n",
    "\n",
    "def ls_square(lista):\n",
    "    print([x**2 for x in lista])"
   ]
  },
  {
   "cell_type": "code",
   "execution_count": 6,
   "metadata": {},
   "outputs": [
    {
     "name": "stdout",
     "output_type": "stream",
     "text": [
      "[1, 4, 9, 16, 25]\n"
     ]
    }
   ],
   "source": [
    "ls_square([1,2,3,4,5])"
   ]
  },
  {
   "cell_type": "markdown",
   "metadata": {},
   "source": [
    "Funções podem receber mais de um parâmetro, basta que estes sejam definidos ao criar a função."
   ]
  },
  {
   "cell_type": "code",
   "execution_count": 7,
   "metadata": {},
   "outputs": [],
   "source": [
    "## criando uma função com vários parâmetros\n",
    "\n",
    "def power(numero,potencia):\n",
    "    print(numero**potencia)"
   ]
  },
  {
   "cell_type": "code",
   "execution_count": 8,
   "metadata": {},
   "outputs": [
    {
     "name": "stdout",
     "output_type": "stream",
     "text": [
      "15625\n"
     ]
    }
   ],
   "source": [
    "power(25,3)"
   ]
  },
  {
   "cell_type": "code",
   "execution_count": 9,
   "metadata": {},
   "outputs": [
    {
     "name": "stdout",
     "output_type": "stream",
     "text": [
      "3375\n"
     ]
    }
   ],
   "source": [
    "## o nome do parâmetro pode ser utilizado e quando o fazemos, não precisamos nos preocupar com a ordem\n",
    "\n",
    "power(potencia=3,numero=15)"
   ]
  },
  {
   "cell_type": "code",
   "execution_count": 10,
   "metadata": {},
   "outputs": [],
   "source": [
    "## o parâmetro pode receber um valor padrão que só será alterado se for explicitamente chamado\n",
    "\n",
    "def potencia(numero,potencia=2):\n",
    "    print(numero**potencia)"
   ]
  },
  {
   "cell_type": "code",
   "execution_count": 11,
   "metadata": {},
   "outputs": [
    {
     "name": "stdout",
     "output_type": "stream",
     "text": [
      "100\n"
     ]
    }
   ],
   "source": [
    "## chamando potencia sem definir a potencia\n",
    "\n",
    "potencia(10)"
   ]
  },
  {
   "cell_type": "code",
   "execution_count": 12,
   "metadata": {},
   "outputs": [
    {
     "name": "stdout",
     "output_type": "stream",
     "text": [
      "1000\n"
     ]
    }
   ],
   "source": [
    "## chamando potencia alterando o valor da potencia\n",
    "\n",
    "potencia(10,3)"
   ]
  },
  {
   "cell_type": "markdown",
   "metadata": {},
   "source": [
    "Uma função também pode receber um número arbitrário de parâmetros utilizando '*'."
   ]
  },
  {
   "cell_type": "code",
   "execution_count": 13,
   "metadata": {},
   "outputs": [],
   "source": [
    "def upper_a_cada_dois(*nomes):\n",
    "    a = nomes[::2]\n",
    "    print([nome.upper() for nome in a])"
   ]
  },
  {
   "cell_type": "code",
   "execution_count": 14,
   "metadata": {},
   "outputs": [
    {
     "name": "stdout",
     "output_type": "stream",
     "text": [
      "['NASSER', 'MARIA', 'JOANA', 'ANDREIA']\n"
     ]
    }
   ],
   "source": [
    "upper_a_cada_dois('nasser','joão','maria','marcelo','joana','mateus','andreia')"
   ]
  },
  {
   "cell_type": "code",
   "execution_count": 15,
   "metadata": {},
   "outputs": [],
   "source": [
    "def count_ingredientes(*ingredientes):\n",
    "    \n",
    "    inicio_b = 0\n",
    "    other_b = 0\n",
    "    \n",
    "    for ingrediente in ingredientes:\n",
    "        \n",
    "        if ingrediente[0] == 'b':\n",
    "            inicio_b += 1\n",
    "        else:\n",
    "            other_b += 1\n",
    "            \n",
    "    print(inicio_b,other_b)"
   ]
  },
  {
   "cell_type": "code",
   "execution_count": 16,
   "metadata": {},
   "outputs": [
    {
     "name": "stdout",
     "output_type": "stream",
     "text": [
      "2 4\n"
     ]
    }
   ],
   "source": [
    "count_ingredientes('bacon','queijo','pão','bife','tomate','alface')"
   ]
  },
  {
   "cell_type": "markdown",
   "metadata": {},
   "source": [
    "Funções em python podem retornar valores que podem ser guardados em variáveis, para isso, devemos usar o 'return'. Veja diferença abaixo."
   ]
  },
  {
   "cell_type": "code",
   "execution_count": 17,
   "metadata": {},
   "outputs": [],
   "source": [
    "def cube(numero):\n",
    "    numero**3\n",
    "    \n",
    "def ret_cube(numero):\n",
    "    return numero**3"
   ]
  },
  {
   "cell_type": "code",
   "execution_count": 18,
   "metadata": {},
   "outputs": [],
   "source": [
    "## Veja que ao executar a função abaixo ela não retorna nada apesar de processamento ter sido gasto para executar a função.\n",
    "\n",
    "cube(10)"
   ]
  },
  {
   "cell_type": "code",
   "execution_count": 19,
   "metadata": {},
   "outputs": [],
   "source": [
    "## Se tentarmos guardar a saída da função cube em uma variável o seguinte comportamento acontece\n",
    "\n",
    "cube10 = cube(10)"
   ]
  },
  {
   "cell_type": "code",
   "execution_count": 20,
   "metadata": {},
   "outputs": [
    {
     "name": "stdout",
     "output_type": "stream",
     "text": [
      "None\n"
     ]
    }
   ],
   "source": [
    "## Verificando o valor guardado dentro da variável cube10\n",
    "\n",
    "print(cube10)"
   ]
  },
  {
   "cell_type": "code",
   "execution_count": 21,
   "metadata": {},
   "outputs": [
    {
     "data": {
      "text/plain": [
       "1000"
      ]
     },
     "execution_count": 21,
     "metadata": {},
     "output_type": "execute_result"
    }
   ],
   "source": [
    "## Usando a função com return o comportamento muda entregando uma valor ao final da sua execução, esse valor por ser guardado ou não em alguma variável.\n",
    "\n",
    "ret_cube(10)"
   ]
  },
  {
   "cell_type": "code",
   "execution_count": 22,
   "metadata": {},
   "outputs": [],
   "source": [
    "## Usando a função com return o valor pode ser guardado em um variável e acessado depois\n",
    "\n",
    "returned_value = ret_cube(10)"
   ]
  },
  {
   "cell_type": "code",
   "execution_count": 23,
   "metadata": {},
   "outputs": [
    {
     "name": "stdout",
     "output_type": "stream",
     "text": [
      "1000\n"
     ]
    }
   ],
   "source": [
    "## Verificando o valor guardado dentro da variável returned_value\n",
    "\n",
    "print(returned_value)"
   ]
  },
  {
   "cell_type": "markdown",
   "metadata": {},
   "source": [
    "## Funções lambda\n",
    "\n",
    "___\n",
    "\n",
    "A função lambda é uma forma pythonica de escrever uma função. Ela também é chamada de função anônima porque, normalmente, não se atribui nenhum nome a ela. Pode ser definida utilizando a palavra reservada 'lambda'. Sua anatomia:\n",
    "\n",
    "LAMBDA <parâmetro> : <código a ser executado>\n",
    "\n",
    "obs.: funções lambda não necessitam de 'return'."
   ]
  },
  {
   "cell_type": "code",
   "execution_count": 24,
   "metadata": {},
   "outputs": [],
   "source": [
    "## elas podem ser guardadas dentro de variáveis e chamadas\n",
    "\n",
    "a = lambda x: x**2"
   ]
  },
  {
   "cell_type": "code",
   "execution_count": 25,
   "metadata": {},
   "outputs": [
    {
     "data": {
      "text/plain": [
       "225"
      ]
     },
     "execution_count": 25,
     "metadata": {},
     "output_type": "execute_result"
    }
   ],
   "source": [
    "a(15)"
   ]
  },
  {
   "cell_type": "code",
   "execution_count": 26,
   "metadata": {},
   "outputs": [
    {
     "data": {
      "text/plain": [
       "125"
      ]
     },
     "execution_count": 26,
     "metadata": {},
     "output_type": "execute_result"
    }
   ],
   "source": [
    "(lambda x: x**3)(5)"
   ]
  },
  {
   "cell_type": "markdown",
   "metadata": {},
   "source": [
    "## Exercícios\n",
    "\n",
    "___\n",
    "\n",
    "1 - Escreva uma função python que receba uma lista e separe os múltiplos de 5. Ao final ela retorna a soma de todos os valores na lista de multiplos de 5. Escreva a função de tal forma que ela só possa receber listas e não outros tipos de dados.\n",
    "\n",
    "2 - Escreva uma função que receba um número aleatório de parâmetros some somente os números. (use *args)\n",
    "\n",
    "3 - Escreva uma função para verificar se uma palavra é um palíndromo.\n",
    "\n",
    "4 - Escreva uma função que receba uma lista crie um dicionário com a contagem dos valores dessa lista.\n",
    "\n",
    "5 - Escreva uma função que receba uma lista de listas, itere sobre cada lista, some seus valores, gere uma segunda lista e descubra o desvio padrão dela.\n",
    "\n",
    "entrada : [[12,12,5,6,3,6,8,5,5,5],[3,3,3,3,4,4,15,89,20,20],[15,15,15,20,30,35,35,35,15,15],[10,10,10,10,15,15,15,15],[5,5,2,2],[8,8,89,89,898,1000]]\n",
    "\n",
    "6 - Escreva uma função que gere uma sequencia de Fibonnaci. O único parâmetro é a quantidade de números que devem gerados. (Fibonnaci é uma sequencia onde o próximo número é a soma dos dois imediatamente anteriores a ele).\n",
    "\n",
    "7 - Monte uma função que vai calcular e comparar os custos de uma viagem para 3 cidades diferentes e irá recomendar qual a viagem mais barata. Essa função deve receber somente uma parâmetro 'noites'. A partir desse argumento a função deve calcular o custo total de viagem de para três coisas: hotel, alimentação e locomoção; de cada uma das cidades. O output da função devem ser duas coisas: 1 - o custo total da viagem por cidade com a mé dia por noite; 2 - A cidade escolhida para viagem. Utilize os dados abaixo.\n",
    "\n",
    "\n",
    "|   Cidade  | Hotel/noite | Alimentação/noite | Locomoção/noite |\n",
    "|:---------:|:-----------:|:-----------------:|:---------------:|\n",
    "| Abu Dhabi |     1300    |        200        |       150       |\n",
    "|  Genebra  |     1200    |        150        |        80       |\n",
    "|    Oslo   |     1000    |        250        |       100       |\n",
    "\n",
    "\n",
    "** DESAFIO **\n",
    "8 - Defina uma função que calcule o z-score de todos os valores de uma lista e encontre quem são os outliers (z-score abaixo de -3 e acima de 3). Use a lista abaixo:\n",
    "\n",
    "lista8 = [201, 102, -5558, 232, 213, -9249, -247, 1183, 211, 7598, 130, 61, 192, 207, -46, 170, 116, 106, 225, 75, 138, 107, 108, -33, -9, 170, 147, 175, 137, -5, -9, 16600, 171, 183, 147, 171, 143, 104, 7, 227, 127, 173, 178, 194, 110, 20, 99, 11, 41, 242, 250, 62, 230, -32, 239, 241, 30, -35, 132, 214, 58, 90, -12, -24, 177, 116, 53, -26, 144, 29, 41, 217, 114, 109, -15, 32, 110, 162, 221, -16, 210, 87, 76, 3100, 73, 174, 194, 93, -9, 241, 234, 79, -4800, -22, -41, 224, 249, 114, -29, 79]"
   ]
  },
  {
   "cell_type": "markdown",
   "metadata": {},
   "source": [
    "|   Cidade  | Hotel/noite | Alimentação/noite | Locomoção/noite |\n",
    "|:---------:|:-----------:|:-----------------:|:---------------:|\n",
    "| Abu Dhabi |     1300    |        200        |       150       |\n",
    "|  Genebra  |     1200    |        150        |        80       |\n",
    "|    Oslo   |     1000    |        250        |       100       |"
   ]
  }
 ],
 "metadata": {
  "kernelspec": {
   "display_name": "Python 3",
   "language": "python",
   "name": "python3"
  },
  "language_info": {
   "codemirror_mode": {
    "name": "ipython",
    "version": 3
   },
   "file_extension": ".py",
   "mimetype": "text/x-python",
   "name": "python",
   "nbconvert_exporter": "python",
   "pygments_lexer": "ipython3",
   "version": "3.7.6"
  }
 },
 "nbformat": 4,
 "nbformat_minor": 4
}
