{
 "cells": [
  {
   "cell_type": "markdown",
   "metadata": {},
   "source": [
    "# Funções built-in\n",
    "\n",
    "___\n",
    "\n",
    "O python tem vários funções built-in, ou seja, funções que já veem na linguagem e não precisam ser importadas. Elas podem ser vistas em: https://docs.python.org/3/library/functions.html"
   ]
  },
  {
   "cell_type": "markdown",
   "metadata": {},
   "source": [
    "### zip\n",
    "\n",
    "___\n",
    "\n",
    "A função zip junta os valores de dois iteráveis valor a valor."
   ]
  },
  {
   "cell_type": "code",
   "execution_count": 1,
   "metadata": {},
   "outputs": [
    {
     "name": "stdout",
     "output_type": "stream",
     "text": [
      "1 10\n",
      "2 20\n",
      "3 30\n",
      "4 40\n",
      "5 50\n",
      "6 60\n",
      "7 70\n",
      "8 80\n",
      "9 90\n",
      "10 100\n"
     ]
    }
   ],
   "source": [
    "x = [1,2,3,4,5,6,7,8,9,10]\n",
    "y = [10,20,30,40,50,60,70,80,90,100]\n",
    "\n",
    "for a,b in zip(x,y):\n",
    "    print(a,b)"
   ]
  },
  {
   "cell_type": "code",
   "execution_count": 2,
   "metadata": {},
   "outputs": [
    {
     "name": "stdout",
     "output_type": "stream",
     "text": [
      "(1, 10)\n",
      "(2, 20)\n",
      "(3, 30)\n",
      "(4, 40)\n",
      "(5, 50)\n",
      "(6, 60)\n",
      "(7, 70)\n",
      "(8, 80)\n",
      "(9, 90)\n",
      "(10, 100)\n"
     ]
    }
   ],
   "source": [
    "## a função zip gera tuplas que podem ser acessadas\n",
    "\n",
    "for a in zip(x,y):\n",
    "    print(a)"
   ]
  },
  {
   "cell_type": "code",
   "execution_count": 6,
   "metadata": {},
   "outputs": [
    {
     "data": {
      "text/plain": [
       "[(1, 2, 3, 4, 5), ('a', 'b', 'c', 'd', 'e')]"
      ]
     },
     "execution_count": 6,
     "metadata": {},
     "output_type": "execute_result"
    }
   ],
   "source": [
    "## dando unzip nem uma série de tuplas (basta usar *)\n",
    "\n",
    "x = [(1,'a'),(2,'b'),(3,'c'),(4,'d'),(5,'e')]\n",
    "\n",
    "list(zip(*x))"
   ]
  },
  {
   "cell_type": "markdown",
   "metadata": {},
   "source": [
    "### enumerate\n",
    "\n",
    "___\n",
    "\n",
    "Enumerate cria um contador para cada iteração de um iterável."
   ]
  },
  {
   "cell_type": "code",
   "execution_count": 9,
   "metadata": {},
   "outputs": [
    {
     "data": {
      "text/plain": [
       "[(0, 'a'),\n",
       " (1, 'b'),\n",
       " (2, 'c'),\n",
       " (3, 'd'),\n",
       " (4, 'e'),\n",
       " (5, 'f'),\n",
       " (6, 'g'),\n",
       " (7, 'h'),\n",
       " (8, 'i'),\n",
       " (9, 'j'),\n",
       " (10, 'k'),\n",
       " (11, 'l'),\n",
       " (12, 'm'),\n",
       " (13, 'n'),\n",
       " (14, 'o'),\n",
       " (15, 'p'),\n",
       " (16, 'q'),\n",
       " (17, 'r'),\n",
       " (18, 's')]"
      ]
     },
     "execution_count": 9,
     "metadata": {},
     "output_type": "execute_result"
    }
   ],
   "source": [
    "ls = ['a','b','c','d','e','f','g','h','i','j','k','l','m','n','o','p','q','r','s']\n",
    "\n",
    "list(enumerate(ls))"
   ]
  },
  {
   "cell_type": "code",
   "execution_count": 10,
   "metadata": {},
   "outputs": [
    {
     "data": {
      "text/plain": [
       "[(1, 'a'),\n",
       " (2, 'b'),\n",
       " (3, 'c'),\n",
       " (4, 'd'),\n",
       " (5, 'e'),\n",
       " (6, 'f'),\n",
       " (7, 'g'),\n",
       " (8, 'h'),\n",
       " (9, 'i'),\n",
       " (10, 'j'),\n",
       " (11, 'k'),\n",
       " (12, 'l'),\n",
       " (13, 'm'),\n",
       " (14, 'n'),\n",
       " (15, 'o'),\n",
       " (16, 'p'),\n",
       " (17, 'q'),\n",
       " (18, 'r'),\n",
       " (19, 's')]"
      ]
     },
     "execution_count": 10,
     "metadata": {},
     "output_type": "execute_result"
    }
   ],
   "source": [
    "ls = ['a','b','c','d','e','f','g','h','i','j','k','l','m','n','o','p','q','r','s']\n",
    "\n",
    "list(enumerate(ls,start=1))"
   ]
  },
  {
   "cell_type": "code",
   "execution_count": null,
   "metadata": {},
   "outputs": [],
   "source": []
  },
  {
   "cell_type": "code",
   "execution_count": null,
   "metadata": {},
   "outputs": [],
   "source": []
  },
  {
   "cell_type": "code",
   "execution_count": null,
   "metadata": {},
   "outputs": [],
   "source": []
  }
 ],
 "metadata": {
  "kernelspec": {
   "display_name": "Python 3.7.6 64-bit ('base': conda)",
   "language": "python",
   "name": "python37664bitbaseconda774df39cacc84caf9286edd8f47a70cc"
  },
  "language_info": {
   "codemirror_mode": {
    "name": "ipython",
    "version": 3
   },
   "file_extension": ".py",
   "mimetype": "text/x-python",
   "name": "python",
   "nbconvert_exporter": "python",
   "pygments_lexer": "ipython3",
   "version": "3.7.6"
  }
 },
 "nbformat": 4,
 "nbformat_minor": 4
}
