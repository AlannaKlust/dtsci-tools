{
 "cells": [
  {
   "cell_type": "markdown",
   "metadata": {},
   "source": [
    "# Condições Lógicas\n",
    "\n",
    "___"
   ]
  },
  {
   "cell_type": "markdown",
   "metadata": {},
   "source": [
    "Operadores de comparações:\n",
    "\n",
    "<ul>\n",
    "    <li>igual: <b>==</b></li>\n",
    "    <li>diferente: <b>!=</b></li>\n",
    "    <li>maior que: <b>></b></li>\n",
    "    <li>menor que: <b>&lt;</b></li>\n",
    "    <li>maior ou igual a: <b>>=</b></li>\n",
    "    <li>menor ou igual a: <b>&lt;=</b></li>\n",
    "</ul>"
   ]
  },
  {
   "cell_type": "code",
   "execution_count": 1,
   "metadata": {},
   "outputs": [
    {
     "data": {
      "text/plain": [
       "False"
      ]
     },
     "execution_count": 1,
     "metadata": {},
     "output_type": "execute_result"
    }
   ],
   "source": [
    "## Sinal de igualdade\n",
    "\n",
    "'abc' == 'ABC'"
   ]
  },
  {
   "cell_type": "code",
   "execution_count": 2,
   "metadata": {},
   "outputs": [
    {
     "data": {
      "text/plain": [
       "False"
      ]
     },
     "execution_count": 2,
     "metadata": {},
     "output_type": "execute_result"
    }
   ],
   "source": [
    "## Sinal de igualdade 2\n",
    "\n",
    "1 == 2"
   ]
  },
  {
   "cell_type": "code",
   "execution_count": 3,
   "metadata": {},
   "outputs": [
    {
     "data": {
      "text/plain": [
       "True"
      ]
     },
     "execution_count": 3,
     "metadata": {},
     "output_type": "execute_result"
    }
   ],
   "source": [
    "## Sinal de Igualdade 3\n",
    "\n",
    "[1,2,3] == [1,2,3]"
   ]
  },
  {
   "cell_type": "code",
   "execution_count": 4,
   "metadata": {},
   "outputs": [
    {
     "data": {
      "text/plain": [
       "False"
      ]
     },
     "execution_count": 4,
     "metadata": {},
     "output_type": "execute_result"
    }
   ],
   "source": [
    "## Sinal de Igualdade 4\n",
    "\n",
    "[1,2,3] == (1,2,3)"
   ]
  },
  {
   "cell_type": "code",
   "execution_count": 5,
   "metadata": {},
   "outputs": [
    {
     "data": {
      "text/plain": [
       "True"
      ]
     },
     "execution_count": 5,
     "metadata": {},
     "output_type": "execute_result"
    }
   ],
   "source": [
    "## Sinal de diferente 1\n",
    "\n",
    "[1,2,3] != (1,2,3)"
   ]
  },
  {
   "cell_type": "code",
   "execution_count": 7,
   "metadata": {},
   "outputs": [
    {
     "data": {
      "text/plain": [
       "False"
      ]
     },
     "execution_count": 7,
     "metadata": {},
     "output_type": "execute_result"
    }
   ],
   "source": [
    "## Sinal de diferente 2\n",
    "\n",
    "[1,2,3] != [1,2,3]"
   ]
  },
  {
   "cell_type": "code",
   "execution_count": 8,
   "metadata": {},
   "outputs": [
    {
     "data": {
      "text/plain": [
       "True"
      ]
     },
     "execution_count": 8,
     "metadata": {},
     "output_type": "execute_result"
    }
   ],
   "source": [
    "## Sinal de diferente 3\n",
    "\n",
    "{'num':[1,2,3]} != [1,2,3]"
   ]
  },
  {
   "cell_type": "code",
   "execution_count": 9,
   "metadata": {},
   "outputs": [
    {
     "data": {
      "text/plain": [
       "True"
      ]
     },
     "execution_count": 9,
     "metadata": {},
     "output_type": "execute_result"
    }
   ],
   "source": [
    "## Sinal de diferente 4\n",
    "\n",
    "'bacon' != 'ruim'"
   ]
  },
  {
   "cell_type": "code",
   "execution_count": 10,
   "metadata": {},
   "outputs": [
    {
     "data": {
      "text/plain": [
       "False"
      ]
     },
     "execution_count": 10,
     "metadata": {},
     "output_type": "execute_result"
    }
   ],
   "source": [
    "## Sinal de maior 1\n",
    "\n",
    "10 > 15"
   ]
  },
  {
   "cell_type": "code",
   "execution_count": 11,
   "metadata": {},
   "outputs": [
    {
     "ename": "TypeError",
     "evalue": "'>' not supported between instances of 'str' and 'int'",
     "output_type": "error",
     "traceback": [
      "\u001b[0;31m---------------------------------------------------------------------------\u001b[0m",
      "\u001b[0;31mTypeError\u001b[0m                                 Traceback (most recent call last)",
      "\u001b[0;32m<ipython-input-11-1abf031a7dd0>\u001b[0m in \u001b[0;36m<module>\u001b[0;34m\u001b[0m\n\u001b[1;32m      1\u001b[0m \u001b[0;31m## Sinal de maior 2\u001b[0m\u001b[0;34m\u001b[0m\u001b[0;34m\u001b[0m\u001b[0;34m\u001b[0m\u001b[0m\n\u001b[1;32m      2\u001b[0m \u001b[0;34m\u001b[0m\u001b[0m\n\u001b[0;32m----> 3\u001b[0;31m \u001b[0;34m'bacon'\u001b[0m \u001b[0;34m>\u001b[0m \u001b[0;36m15\u001b[0m\u001b[0;34m\u001b[0m\u001b[0;34m\u001b[0m\u001b[0m\n\u001b[0m",
      "\u001b[0;31mTypeError\u001b[0m: '>' not supported between instances of 'str' and 'int'"
     ]
    }
   ],
   "source": [
    "## Sinal de maior 2\n",
    "\n",
    "'bacon' > 15"
   ]
  },
  {
   "cell_type": "code",
   "execution_count": 12,
   "metadata": {},
   "outputs": [
    {
     "data": {
      "text/plain": [
       "True"
      ]
     },
     "execution_count": 12,
     "metadata": {},
     "output_type": "execute_result"
    }
   ],
   "source": [
    "## Sinal de menor 1\n",
    "\n",
    "10 < 50"
   ]
  },
  {
   "cell_type": "code",
   "execution_count": 13,
   "metadata": {},
   "outputs": [
    {
     "ename": "TypeError",
     "evalue": "'<' not supported between instances of 'int' and 'str'",
     "output_type": "error",
     "traceback": [
      "\u001b[0;31m---------------------------------------------------------------------------\u001b[0m",
      "\u001b[0;31mTypeError\u001b[0m                                 Traceback (most recent call last)",
      "\u001b[0;32m<ipython-input-13-fcf7421bff28>\u001b[0m in \u001b[0;36m<module>\u001b[0;34m\u001b[0m\n\u001b[1;32m      1\u001b[0m \u001b[0;31m## Sinal de menor 1\u001b[0m\u001b[0;34m\u001b[0m\u001b[0;34m\u001b[0m\u001b[0;34m\u001b[0m\u001b[0m\n\u001b[1;32m      2\u001b[0m \u001b[0;34m\u001b[0m\u001b[0m\n\u001b[0;32m----> 3\u001b[0;31m \u001b[0;36m10\u001b[0m \u001b[0;34m<\u001b[0m \u001b[0;34m'bacon'\u001b[0m\u001b[0;34m\u001b[0m\u001b[0;34m\u001b[0m\u001b[0m\n\u001b[0m",
      "\u001b[0;31mTypeError\u001b[0m: '<' not supported between instances of 'int' and 'str'"
     ]
    }
   ],
   "source": [
    "## Sinal de menor 1\n",
    "\n",
    "10 < 'bacon'"
   ]
  },
  {
   "cell_type": "code",
   "execution_count": 14,
   "metadata": {},
   "outputs": [
    {
     "data": {
      "text/plain": [
       "True"
      ]
     },
     "execution_count": 14,
     "metadata": {},
     "output_type": "execute_result"
    }
   ],
   "source": [
    "## Sinal de maior ou igual 1\n",
    "\n",
    "10 >= 10"
   ]
  },
  {
   "cell_type": "code",
   "execution_count": 17,
   "metadata": {},
   "outputs": [
    {
     "data": {
      "text/plain": [
       "False"
      ]
     },
     "execution_count": 17,
     "metadata": {},
     "output_type": "execute_result"
    }
   ],
   "source": [
    "## Sinal de menor ou igual 1\n",
    "\n",
    "10 <= 9"
   ]
  },
  {
   "cell_type": "markdown",
   "metadata": {},
   "source": [
    "## IF\n",
    "\n",
    "____\n",
    "\n",
    "Usamos a palavra 'if' para avaliar uma condição e executamos o código logo abaixo dela caso a condição seja verdadeira."
   ]
  },
  {
   "cell_type": "code",
   "execution_count": 25,
   "metadata": {},
   "outputs": [],
   "source": [
    "salario = 1000"
   ]
  },
  {
   "cell_type": "code",
   "execution_count": 26,
   "metadata": {},
   "outputs": [
    {
     "name": "stdout",
     "output_type": "stream",
     "text": [
      "Hora de gastar!\n"
     ]
    }
   ],
   "source": [
    "if salario > 500:\n",
    "    print('Hora de gastar!')\n",
    "else:\n",
    "    print('É melhor deixar essa compra para depois!')"
   ]
  },
  {
   "cell_type": "code",
   "execution_count": 28,
   "metadata": {},
   "outputs": [
    {
     "name": "stdout",
     "output_type": "stream",
     "text": [
      "Hora de gastar!\n",
      "Relógio Comprado\n"
     ]
    }
   ],
   "source": [
    "preco = 300\n",
    "\n",
    "if salario > 500:\n",
    "    print('Hora de gastar!')\n",
    "    \n",
    "    if preco > 500:\n",
    "        print('Voce não tem dinheiro pra isso')\n",
    "    \n",
    "    else:\n",
    "        print('Relógio Comprado')\n",
    "    \n",
    "else:\n",
    "    print('É melhor deixar essa compra para depois!')"
   ]
  },
  {
   "cell_type": "code",
   "execution_count": 29,
   "metadata": {},
   "outputs": [
    {
     "name": "stdout",
     "output_type": "stream",
     "text": [
      "netflix and chill\n"
     ]
    }
   ],
   "source": [
    "tempo = 'nublado'\n",
    "\n",
    "if tempo == 'nublado':\n",
    "    print('netflix and chill')\n",
    "elif tempo == 'sol':\n",
    "    print('parque da cidade')\n",
    "elif tempo == 'chuva':\n",
    "    print('dormir')\n",
    "elif tempo == 'temporal':\n",
    "    print('corra')\n",
    "else:\n",
    "    print('sei não')"
   ]
  },
  {
   "cell_type": "code",
   "execution_count": 31,
   "metadata": {},
   "outputs": [
    {
     "name": "stdout",
     "output_type": "stream",
     "text": [
      "A maior que B!\n"
     ]
    }
   ],
   "source": [
    "## shorthand if\n",
    "\n",
    "a = 100\n",
    "b = 1.5\n",
    "\n",
    "print('A maior que B!') if a/10 > b else print('B maior que A!')"
   ]
  },
  {
   "cell_type": "markdown",
   "metadata": {},
   "source": [
    "O shorthand if tem a seguinte anatomia:\n",
    "\n",
    "<função a ser executada caso True> **IF** <condição> **ELSE** <função a ser executada caso False>"
   ]
  },
  {
   "cell_type": "markdown",
   "metadata": {},
   "source": [
    "## AND E OR\n",
    "\n",
    "___\n",
    "\n",
    "Os operadores lógicos AND e OR funcionam para trazer complexidade as comparações efetuadas."
   ]
  },
  {
   "cell_type": "code",
   "execution_count": 34,
   "metadata": {},
   "outputs": [
    {
     "name": "stdout",
     "output_type": "stream",
     "text": [
      "Falso\n"
     ]
    }
   ],
   "source": [
    "## usando AND\n",
    "\n",
    "a = 100\n",
    "b = 150\n",
    "c = 10\n",
    "\n",
    "\n",
    "if a > b and b == 150:\n",
    "    print('Verdadeiro!')\n",
    "else:\n",
    "    print('Falso')"
   ]
  },
  {
   "cell_type": "code",
   "execution_count": 35,
   "metadata": {},
   "outputs": [
    {
     "name": "stdout",
     "output_type": "stream",
     "text": [
      "Verdadeiro!\n"
     ]
    }
   ],
   "source": [
    "## usando OR\n",
    "\n",
    "\n",
    "if a > b or b == 150:\n",
    "    print('Verdadeiro!')\n",
    "else:\n",
    "    print('Falso')"
   ]
  },
  {
   "cell_type": "code",
   "execution_count": 37,
   "metadata": {},
   "outputs": [
    {
     "name": "stdout",
     "output_type": "stream",
     "text": [
      "Verdadeiro\n"
     ]
    }
   ],
   "source": [
    "print('Verdadeiro') if a>b or b== 150 else print('Falso')"
   ]
  },
  {
   "cell_type": "markdown",
   "metadata": {},
   "source": [
    "## Exercícios\n",
    "\n",
    "___"
   ]
  },
  {
   "cell_type": "markdown",
   "metadata": {},
   "source": [
    "1 - Crie um programa que calcule IMC de dada altura e peso e imprima em qual categoria a pessoa está.\n",
    "\n",
    "<img src=\"tabela_imc.png\">\n",
    "\n",
    "2 - Voce é um jogador de tênis. Para decidir se você vai treinar hoje você deve avaliar duas coisas: o tempo e a temperatura. Crie um programa para saber se você deve ou não treinar hoje de acordo com as seguintes especificações: \n",
    "\n",
    "- Tempo: chuvoso -> não jogar\n",
    "- Tempo: ensolarado ou nublado -> jogar\n",
    "- Temperatura maior ou igual a 15 graus e tempo ensolarado ou nublado -> jogar\n",
    "- Temperatura menor que 15 graus e tempo ensolarado ou nublado -> não jogar\n",
    "\n",
    "Se o dia estiver ensolarado e a temperatura for de 16 graus. Você irá ou não jogar?\n",
    "\n",
    "3 - Escreva um programa que receba o nome de um mês em letras minúsculas, o retorno desse programa deve ser o seguinte: se o mês começar com a letra 'a' ele deverá avaliar a segunda letra do nome do mês, se a segunda letra for 'b' ele deverá printar 'abril', se a segunda letra for 'g' ele deverá printar 'agosto'. Em todos os outros casos ele deverá printar 'mês desconhecido'.\n",
    "\n",
    "4 - Vocẽ está dividindo 10 chocolates por cor. Você tem duas caixas, na primeira você colocará somente os chocolates de cor azul e na outra você colocará somente os de cor amarela. Crie um programa que avalie a cor do chocolate e o coloque na caixa correta. Represente cada caixa como uma lista e cada chocolate como um dicionário que deverá possuir duas características do chocolate: id e cor. Crie a representação dos chocolates seguindo o exemplo abaixo:\n",
    "\n",
    "chocolate1 = {'id':1,'cor':'azul'}\n",
    "\n",
    "5 - Construa usando um programa que represente a seguinte árvore abaixo:\n",
    "\n",
    "<img src=\"arvore.png\">\n",
    "\n",
    "\n",
    "Quando x = 'bacon', y = [1,2,3,4,5,6,7,8,9,10,'a','b','c','d','e','f','g','h'] e z = 15. Qual valor o programa deverá printar?\n",
    "\n",
    "Quando x = 'bacon', y = [1,2,3,4], e z = 20. Qual valor o programa deverá printar?\n",
    "\n",
    "Quando x='couxeiro', y = [[1,2,3,4,5],[1,2,3,4,5],[1,2,3,4,5]] e z = 21. Qual valor o programa deverá printar?"
   ]
  },
  {
   "cell_type": "code",
   "execution_count": 61,
   "metadata": {},
   "outputs": [
    {
     "name": "stdout",
     "output_type": "stream",
     "text": [
      "Obesidade Mórbida (Grau 3)\n"
     ]
    }
   ],
   "source": [
    "## Questão 1\n",
    "\n",
    "altura = 1.71\n",
    "peso = 125\n",
    "\n",
    "imc = peso/(altura**2)\n",
    "\n",
    "\n",
    "if imc < 18.5:\n",
    "    print('Peso baixo')\n",
    "elif imc >= 18.5 and imc <= 24.9:\n",
    "    print('Peso Normal')\n",
    "elif imc >= 25 and imc <= 29.9:\n",
    "    print('Sobrepeso')\n",
    "elif imc >= 30 and imc <= 34.9:\n",
    "    print('Obesidade (Grau 1)')\n",
    "elif imc >= 35 and imc <= 39.9:\n",
    "    print('Obesidade Severa (Grau 2)')\n",
    "else:\n",
    "    print('Obesidade Mórbida (Grau 3)')"
   ]
  },
  {
   "cell_type": "code",
   "execution_count": 62,
   "metadata": {},
   "outputs": [
    {
     "name": "stdout",
     "output_type": "stream",
     "text": [
      "Jogar!\n"
     ]
    }
   ],
   "source": [
    "## Questão 2\n",
    "\n",
    "tempo = 'nublado'\n",
    "temperatura = 15\n",
    "\n",
    "if tempo == 'chuvoso':\n",
    "    print('Não jogar!')\n",
    "elif tempo == 'ensolarado' or tempo == 'nublado':\n",
    "    if temperatura >= 15:\n",
    "        print('Jogar!')\n",
    "    elif temperatura < 15:\n",
    "        print('Não jogar!')"
   ]
  },
  {
   "cell_type": "code",
   "execution_count": 63,
   "metadata": {},
   "outputs": [
    {
     "name": "stdout",
     "output_type": "stream",
     "text": [
      "Agosto\n"
     ]
    }
   ],
   "source": [
    "## Questão 3\n",
    "\n",
    "mes = 'agosto'\n",
    "\n",
    "if mes[0] == 'a':\n",
    "    if mes[1] == 'b':\n",
    "        print('Abril')\n",
    "    elif mes[1] == 'g':\n",
    "        print('Agosto')\n",
    "else:\n",
    "    print('Mês desconhecido')"
   ]
  },
  {
   "cell_type": "code",
   "execution_count": 64,
   "metadata": {},
   "outputs": [],
   "source": [
    "## Questão 4\n",
    "\n",
    "chocolate1 = {'id':1,'cor':'azul'}\n",
    "chocolate2 = {'id':2,'cor':'amarela'}\n",
    "chocolate3 = {'id':3,'cor':'azul'}\n",
    "chocolate4 = {'id':4,'cor':'azul'}\n",
    "chocolate5 = {'id':5,'cor':'azul'}\n",
    "chocolate6 = {'id':6,'cor':'amarela'}\n",
    "chocolate7 = {'id':7,'cor':'amarela'}\n",
    "chocolate8 = {'id':8,'cor':'azul'}\n",
    "chocolate9 = {'id':9,'cor':'amarela'}\n",
    "chocolate10 = {'id':10,'cor':'azul'}"
   ]
  },
  {
   "cell_type": "code",
   "execution_count": 65,
   "metadata": {},
   "outputs": [],
   "source": [
    "caixa_azul = []\n",
    "caixa_amarela = []"
   ]
  },
  {
   "cell_type": "code",
   "execution_count": 66,
   "metadata": {},
   "outputs": [],
   "source": [
    "avaliado = chocolate10\n",
    "\n",
    "if avaliado['cor'] == 'azul':\n",
    "    caixa_azul.append(avaliado)\n",
    "elif avaliado['cor'] == 'amarela':\n",
    "    caixa_amarela.append(avaliado)"
   ]
  },
  {
   "cell_type": "code",
   "execution_count": 67,
   "metadata": {},
   "outputs": [
    {
     "data": {
      "text/plain": [
       "[{'id': 10, 'cor': 'azul'}]"
      ]
     },
     "execution_count": 67,
     "metadata": {},
     "output_type": "execute_result"
    }
   ],
   "source": [
    "caixa_azul"
   ]
  },
  {
   "cell_type": "code",
   "execution_count": 68,
   "metadata": {},
   "outputs": [
    {
     "data": {
      "text/plain": [
       "[]"
      ]
     },
     "execution_count": 68,
     "metadata": {},
     "output_type": "execute_result"
    }
   ],
   "source": [
    "caixa_amarela"
   ]
  },
  {
   "cell_type": "code",
   "execution_count": 69,
   "metadata": {},
   "outputs": [
    {
     "name": "stdout",
     "output_type": "stream",
     "text": [
      "Resultado 1\n"
     ]
    }
   ],
   "source": [
    "## Questão 5\n",
    "\n",
    "x = 'bacon'\n",
    "y = [1,2,3,4,5,6,7,8,9,10,'a','b','c','d','e','f','g','h']\n",
    "z = 15\n",
    "\n",
    "\n",
    "if x[0] == 'b':\n",
    "    if len(y) >= 15:\n",
    "        print('Resultado 1')\n",
    "    else:\n",
    "        if z%2 == 0:\n",
    "            print('Resultado 1')\n",
    "        else:\n",
    "            print('Resultado 2')\n",
    "else:\n",
    "    if x[1] == 'a':\n",
    "        print('Resultado 1')\n",
    "    else:\n",
    "        print('Resultado 2')"
   ]
  },
  {
   "cell_type": "code",
   "execution_count": 70,
   "metadata": {},
   "outputs": [
    {
     "name": "stdout",
     "output_type": "stream",
     "text": [
      "Resultado 1\n"
     ]
    }
   ],
   "source": [
    "## Questão 5b\n",
    "\n",
    "x = 'bacon' \n",
    "y = [1,2,3,4] \n",
    "z = 20\n",
    "\n",
    "\n",
    "if x[0] == 'b':\n",
    "    if len(y) >= 15:\n",
    "        print('Resultado 1')\n",
    "    else:\n",
    "        if z%2 == 0:\n",
    "            print('Resultado 1')\n",
    "        else:\n",
    "            print('Resultado 2')\n",
    "else:\n",
    "    if x[1] == 'a':\n",
    "        print('Resultado 1')\n",
    "    else:\n",
    "        print('Resultado 2')"
   ]
  },
  {
   "cell_type": "code",
   "execution_count": 71,
   "metadata": {},
   "outputs": [
    {
     "name": "stdout",
     "output_type": "stream",
     "text": [
      "Resultado 2\n"
     ]
    }
   ],
   "source": [
    "## Questão 5c\n",
    "\n",
    "x='couxeiro'\n",
    "y = [[1,2,3,4,5],[1,2,3,4,5],[1,2,3,4,5]]\n",
    "z = 21\n",
    "\n",
    "if x[0] == 'b':\n",
    "    if len(y) >= 15:\n",
    "        print('Resultado 1')\n",
    "    else:\n",
    "        if z%2 == 0:\n",
    "            print('Resultado 1')\n",
    "        else:\n",
    "            print('Resultado 2')\n",
    "else:\n",
    "    if x[1] == 'a':\n",
    "        print('Resultado 1')\n",
    "    else:\n",
    "        print('Resultado 2')"
   ]
  }
 ],
 "metadata": {
  "kernelspec": {
   "display_name": "Python 3.7.5 64-bit ('miniconda3': virtualenv)",
   "language": "python",
   "name": "python37564bitminiconda3virtualenvaae6906fdf41426e8b8c7cdd03524cfb"
  },
  "language_info": {
   "codemirror_mode": {
    "name": "ipython",
    "version": 3
   },
   "file_extension": ".py",
   "mimetype": "text/x-python",
   "name": "python",
   "nbconvert_exporter": "python",
   "pygments_lexer": "ipython3",
   "version": "3.7.5"
  }
 },
 "nbformat": 4,
 "nbformat_minor": 4
}
