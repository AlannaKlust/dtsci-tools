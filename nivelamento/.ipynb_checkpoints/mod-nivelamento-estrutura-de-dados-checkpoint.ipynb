{
 "cells": [
  {
   "cell_type": "markdown",
   "metadata": {},
   "source": [
    "# Listas\n",
    "\n",
    "___"
   ]
  },
  {
   "cell_type": "markdown",
   "metadata": {},
   "source": [
    "Listas em python podem ter tipos de dados dentro delas. São definidas pelo símbolo [] e tem seus objetos internos divididos por vírgula. As listas podem ser alteradas e são objetos ITERÁVEIS."
   ]
  },
  {
   "cell_type": "code",
   "execution_count": 86,
   "metadata": {},
   "outputs": [],
   "source": [
    "minha_lista = [1,2,3,4,5,6,7,8,9,10]"
   ]
  },
  {
   "cell_type": "code",
   "execution_count": 87,
   "metadata": {},
   "outputs": [
    {
     "data": {
      "text/plain": [
       "[1, 2, 3, 4, 5, 6, 7, 8, 9, 10]"
      ]
     },
     "execution_count": 87,
     "metadata": {},
     "output_type": "execute_result"
    }
   ],
   "source": [
    "minha_lista"
   ]
  },
  {
   "cell_type": "code",
   "execution_count": 88,
   "metadata": {},
   "outputs": [],
   "source": [
    "num = 12\n",
    "\n",
    "segunda_lista = [1,2,3.3,['a','b','c'],num]"
   ]
  },
  {
   "cell_type": "code",
   "execution_count": 89,
   "metadata": {},
   "outputs": [
    {
     "data": {
      "text/plain": [
       "[1, 2, 3.3, ['a', 'b', 'c'], 12]"
      ]
     },
     "execution_count": 89,
     "metadata": {},
     "output_type": "execute_result"
    }
   ],
   "source": [
    "segunda_lista"
   ]
  },
  {
   "cell_type": "markdown",
   "metadata": {},
   "source": [
    "## Operações com listas\n",
    "\n",
    "___"
   ]
  },
  {
   "cell_type": "code",
   "execution_count": 90,
   "metadata": {},
   "outputs": [
    {
     "data": {
      "text/plain": [
       "['a', 'b', 'c', 1, 2, 3]"
      ]
     },
     "execution_count": 90,
     "metadata": {},
     "output_type": "execute_result"
    }
   ],
   "source": [
    "lista1 = ['a','b','c']\n",
    "lista2 = [1,2,3]\n",
    "\n",
    "lista1 + lista2"
   ]
  },
  {
   "cell_type": "code",
   "execution_count": 91,
   "metadata": {},
   "outputs": [
    {
     "ename": "TypeError",
     "evalue": "can't multiply sequence by non-int of type 'list'",
     "output_type": "error",
     "traceback": [
      "\u001b[0;31m---------------------------------------------------------------------------\u001b[0m",
      "\u001b[0;31mTypeError\u001b[0m                                 Traceback (most recent call last)",
      "\u001b[0;32m<ipython-input-91-bdc71fc189af>\u001b[0m in \u001b[0;36m<module>\u001b[0;34m\u001b[0m\n\u001b[0;32m----> 1\u001b[0;31m \u001b[0mlista1\u001b[0m \u001b[0;34m*\u001b[0m \u001b[0mlista2\u001b[0m\u001b[0;34m\u001b[0m\u001b[0;34m\u001b[0m\u001b[0m\n\u001b[0m",
      "\u001b[0;31mTypeError\u001b[0m: can't multiply sequence by non-int of type 'list'"
     ]
    }
   ],
   "source": [
    "lista1 * lista2"
   ]
  },
  {
   "cell_type": "code",
   "execution_count": 92,
   "metadata": {},
   "outputs": [
    {
     "data": {
      "text/plain": [
       "['a', 'b', 'c', 'a', 'b', 'c']"
      ]
     },
     "execution_count": 92,
     "metadata": {},
     "output_type": "execute_result"
    }
   ],
   "source": [
    "lista1 * 2"
   ]
  },
  {
   "cell_type": "code",
   "execution_count": 93,
   "metadata": {},
   "outputs": [
    {
     "data": {
      "text/plain": [
       "[1, 2, 3, 1, 2, 3]"
      ]
     },
     "execution_count": 93,
     "metadata": {},
     "output_type": "execute_result"
    }
   ],
   "source": [
    "lista2 * 2"
   ]
  },
  {
   "cell_type": "code",
   "execution_count": 94,
   "metadata": {},
   "outputs": [
    {
     "ename": "TypeError",
     "evalue": "unsupported operand type(s) for /: 'list' and 'int'",
     "output_type": "error",
     "traceback": [
      "\u001b[0;31m---------------------------------------------------------------------------\u001b[0m",
      "\u001b[0;31mTypeError\u001b[0m                                 Traceback (most recent call last)",
      "\u001b[0;32m<ipython-input-94-139282a865af>\u001b[0m in \u001b[0;36m<module>\u001b[0;34m\u001b[0m\n\u001b[0;32m----> 1\u001b[0;31m \u001b[0mlista2\u001b[0m\u001b[0;34m/\u001b[0m\u001b[0;36m2\u001b[0m\u001b[0;34m\u001b[0m\u001b[0;34m\u001b[0m\u001b[0m\n\u001b[0m",
      "\u001b[0;31mTypeError\u001b[0m: unsupported operand type(s) for /: 'list' and 'int'"
     ]
    }
   ],
   "source": [
    "lista2/2"
   ]
  },
  {
   "cell_type": "code",
   "execution_count": 95,
   "metadata": {},
   "outputs": [
    {
     "ename": "TypeError",
     "evalue": "unsupported operand type(s) for ** or pow(): 'list' and 'int'",
     "output_type": "error",
     "traceback": [
      "\u001b[0;31m---------------------------------------------------------------------------\u001b[0m",
      "\u001b[0;31mTypeError\u001b[0m                                 Traceback (most recent call last)",
      "\u001b[0;32m<ipython-input-95-c6ea2177bf76>\u001b[0m in \u001b[0;36m<module>\u001b[0;34m\u001b[0m\n\u001b[0;32m----> 1\u001b[0;31m \u001b[0mlista2\u001b[0m\u001b[0;34m**\u001b[0m\u001b[0;36m2\u001b[0m\u001b[0;34m\u001b[0m\u001b[0;34m\u001b[0m\u001b[0m\n\u001b[0m",
      "\u001b[0;31mTypeError\u001b[0m: unsupported operand type(s) for ** or pow(): 'list' and 'int'"
     ]
    }
   ],
   "source": [
    "lista2**2"
   ]
  },
  {
   "cell_type": "markdown",
   "metadata": {},
   "source": [
    "## Acessando valores da listas\n",
    "\n",
    "___"
   ]
  },
  {
   "cell_type": "code",
   "execution_count": 96,
   "metadata": {},
   "outputs": [],
   "source": [
    "## criando a lista\n",
    "\n",
    "lista = [1,2,3,4,'a','b','c']"
   ]
  },
  {
   "cell_type": "code",
   "execution_count": 97,
   "metadata": {},
   "outputs": [
    {
     "data": {
      "text/plain": [
       "1"
      ]
     },
     "execution_count": 97,
     "metadata": {},
     "output_type": "execute_result"
    }
   ],
   "source": [
    "## acessando o primeiro valor da lista\n",
    "\n",
    "lista[0]"
   ]
  },
  {
   "cell_type": "code",
   "execution_count": 98,
   "metadata": {},
   "outputs": [
    {
     "data": {
      "text/plain": [
       "True"
      ]
     },
     "execution_count": 98,
     "metadata": {},
     "output_type": "execute_result"
    }
   ],
   "source": [
    "## indexação da lista -1 e 6 são iguais\n",
    "\n",
    "lista[-1] == lista[6]"
   ]
  },
  {
   "cell_type": "code",
   "execution_count": 99,
   "metadata": {},
   "outputs": [
    {
     "data": {
      "text/plain": [
       "['a', 'b', 'c']"
      ]
     },
     "execution_count": 99,
     "metadata": {},
     "output_type": "execute_result"
    }
   ],
   "source": [
    "## fatiando uma lista\n",
    "\n",
    "lista[4:]"
   ]
  },
  {
   "cell_type": "code",
   "execution_count": 100,
   "metadata": {},
   "outputs": [
    {
     "data": {
      "text/plain": [
       "[1, 2, 3, 4, 'a', 'b']"
      ]
     },
     "execution_count": 100,
     "metadata": {},
     "output_type": "execute_result"
    }
   ],
   "source": [
    "## fatiando uma lista\n",
    "\n",
    "lista[:-1]"
   ]
  },
  {
   "cell_type": "code",
   "execution_count": 101,
   "metadata": {},
   "outputs": [
    {
     "data": {
      "text/plain": [
       "[1, 3, 'a', 'c']"
      ]
     },
     "execution_count": 101,
     "metadata": {},
     "output_type": "execute_result"
    }
   ],
   "source": [
    "## pegando o valor a cada duas casas\n",
    "\n",
    "lista[::2]"
   ]
  },
  {
   "cell_type": "code",
   "execution_count": 102,
   "metadata": {},
   "outputs": [
    {
     "name": "stdout",
     "output_type": "stream",
     "text": [
      "[1, 2, 3, 4, 'a', 'b', 'c']\n",
      "[1, 2, 3, 4, 'a', 'b', 7]\n"
     ]
    }
   ],
   "source": [
    "## trocando um valor da lista\n",
    "\n",
    "print(lista)\n",
    "lista[-1]=7\n",
    "print(lista)"
   ]
  },
  {
   "cell_type": "code",
   "execution_count": 103,
   "metadata": {},
   "outputs": [],
   "source": [
    "## trocando valores de uma lista usando :\n",
    "\n",
    "lista[4:6] = 5,6"
   ]
  },
  {
   "cell_type": "code",
   "execution_count": 104,
   "metadata": {},
   "outputs": [
    {
     "data": {
      "text/plain": [
       "[1, 2, 3, 4, 5, 6, 7]"
      ]
     },
     "execution_count": 104,
     "metadata": {},
     "output_type": "execute_result"
    }
   ],
   "source": [
    "lista"
   ]
  },
  {
   "cell_type": "markdown",
   "metadata": {},
   "source": [
    "## Métodos de listas\n",
    "\n",
    "___"
   ]
  },
  {
   "cell_type": "code",
   "execution_count": 158,
   "metadata": {},
   "outputs": [
    {
     "data": {
      "text/plain": [
       "['a', 5, 6, 7, 8, 9, 10]"
      ]
     },
     "execution_count": 158,
     "metadata": {},
     "output_type": "execute_result"
    }
   ],
   "source": [
    "lista = ['a',5,6,7,8,9,10]\n",
    "lista"
   ]
  },
  {
   "cell_type": "code",
   "execution_count": 159,
   "metadata": {},
   "outputs": [
    {
     "data": {
      "text/plain": [
       "['a', 5, 6, 7, 8, 9, 10, 8]"
      ]
     },
     "execution_count": 159,
     "metadata": {},
     "output_type": "execute_result"
    }
   ],
   "source": [
    "## adicionar um valor a lista\n",
    "\n",
    "lista.append(8)\n",
    "lista"
   ]
  },
  {
   "cell_type": "code",
   "execution_count": 160,
   "metadata": {},
   "outputs": [
    {
     "data": {
      "text/plain": [
       "['a', 5, 6, 7, 8, 9, 10, 8, 9, 10, 11, 12]"
      ]
     },
     "execution_count": 160,
     "metadata": {},
     "output_type": "execute_result"
    }
   ],
   "source": [
    "## concatenar duas listas\n",
    "\n",
    "lista.extend([9,10,11,12])\n",
    "lista"
   ]
  },
  {
   "cell_type": "code",
   "execution_count": 161,
   "metadata": {},
   "outputs": [
    {
     "data": {
      "text/plain": [
       "['a', 5, 6, 7, 8, 9, 10, 8, 9, 10, 11, 11.5, 12]"
      ]
     },
     "execution_count": 161,
     "metadata": {},
     "output_type": "execute_result"
    }
   ],
   "source": [
    "## inserir um valor num determina índice\n",
    "\n",
    "lista.insert(-1,11.5)\n",
    "lista"
   ]
  },
  {
   "cell_type": "code",
   "execution_count": 162,
   "metadata": {},
   "outputs": [
    {
     "data": {
      "text/plain": [
       "['a', 5, 6, 7, 8, 9, 10, 8, 9, 10, 11, 12]"
      ]
     },
     "execution_count": 162,
     "metadata": {},
     "output_type": "execute_result"
    }
   ],
   "source": [
    "## removendo um valor da lista\n",
    "\n",
    "lista.remove(11.5)\n",
    "lista"
   ]
  },
  {
   "cell_type": "code",
   "execution_count": 163,
   "metadata": {},
   "outputs": [
    {
     "data": {
      "text/plain": [
       "'a'"
      ]
     },
     "execution_count": 163,
     "metadata": {},
     "output_type": "execute_result"
    }
   ],
   "source": [
    "## remove um valor e o retorna\n",
    "\n",
    "lista.pop(0)"
   ]
  },
  {
   "cell_type": "code",
   "execution_count": 164,
   "metadata": {},
   "outputs": [
    {
     "data": {
      "text/plain": [
       "[5, 6, 7, 8, 9, 10, 8, 9, 10, 11, 12]"
      ]
     },
     "execution_count": 164,
     "metadata": {},
     "output_type": "execute_result"
    }
   ],
   "source": [
    "lista"
   ]
  },
  {
   "cell_type": "code",
   "execution_count": 165,
   "metadata": {},
   "outputs": [
    {
     "data": {
      "text/plain": [
       "9"
      ]
     },
     "execution_count": 165,
     "metadata": {},
     "output_type": "execute_result"
    }
   ],
   "source": [
    "## procurando um valor na lista\n",
    "\n",
    "lista.index(11)"
   ]
  },
  {
   "cell_type": "code",
   "execution_count": 169,
   "metadata": {},
   "outputs": [
    {
     "data": {
      "text/plain": [
       "2"
      ]
     },
     "execution_count": 169,
     "metadata": {},
     "output_type": "execute_result"
    }
   ],
   "source": [
    "## contando quantos valores temos na lista\n",
    "\n",
    "lista.count(10)"
   ]
  },
  {
   "cell_type": "code",
   "execution_count": 171,
   "metadata": {},
   "outputs": [
    {
     "data": {
      "text/plain": [
       "[5, 6, 7, 8, 8, 9, 9, 10, 10, 11, 12]"
      ]
     },
     "execution_count": 171,
     "metadata": {},
     "output_type": "execute_result"
    }
   ],
   "source": [
    "## organizando uma lista\n",
    "\n",
    "lista.sort()\n",
    "lista"
   ]
  },
  {
   "cell_type": "code",
   "execution_count": 174,
   "metadata": {},
   "outputs": [
    {
     "data": {
      "text/plain": [
       "[12, 11, 10, 10, 9, 9, 8, 8, 7, 6, 5]"
      ]
     },
     "execution_count": 174,
     "metadata": {},
     "output_type": "execute_result"
    }
   ],
   "source": [
    "## organizando uma lista por ordem decrescente\n",
    "\n",
    "lista.sort(reverse=True)\n",
    "lista"
   ]
  },
  {
   "cell_type": "code",
   "execution_count": 177,
   "metadata": {},
   "outputs": [],
   "source": [
    "## copiando uma lista\n",
    "\n",
    "lista2 = lista.copy()"
   ]
  },
  {
   "cell_type": "code",
   "execution_count": 178,
   "metadata": {},
   "outputs": [
    {
     "data": {
      "text/plain": [
       "[12, 11, 10, 10, 9, 9, 8, 8, 7, 6, 5]"
      ]
     },
     "execution_count": 178,
     "metadata": {},
     "output_type": "execute_result"
    }
   ],
   "source": [
    "lista2"
   ]
  },
  {
   "cell_type": "code",
   "execution_count": 179,
   "metadata": {},
   "outputs": [
    {
     "data": {
      "text/plain": [
       "11"
      ]
     },
     "execution_count": 179,
     "metadata": {},
     "output_type": "execute_result"
    }
   ],
   "source": [
    "## encontrando o tamanho de uma lista (len não é um método de listas, mas é importante você saber dele)\n",
    "\n",
    "len(lista2)"
   ]
  },
  {
   "cell_type": "code",
   "execution_count": 188,
   "metadata": {},
   "outputs": [
    {
     "data": {
      "text/plain": [
       "5"
      ]
     },
     "execution_count": 188,
     "metadata": {},
     "output_type": "execute_result"
    }
   ],
   "source": [
    "## encontrando o menor valor de uma lista (min não é um método de listas, mas também é importante você saber dele)\n",
    "\n",
    "min(lista2)"
   ]
  },
  {
   "cell_type": "code",
   "execution_count": 189,
   "metadata": {},
   "outputs": [
    {
     "data": {
      "text/plain": [
       "12"
      ]
     },
     "execution_count": 189,
     "metadata": {},
     "output_type": "execute_result"
    }
   ],
   "source": [
    "## encontrando o maior valor de uma lista (max não é um método de listas, mas também é importante você saber dele)\n",
    "\n",
    "max(lista2)"
   ]
  },
  {
   "cell_type": "markdown",
   "metadata": {},
   "source": [
    "# Tuplas\n",
    "\n",
    "___"
   ]
  },
  {
   "cell_type": "markdown",
   "metadata": {},
   "source": [
    "Tuplas são sequências IMUTÁVEIS. São bem parecidas com listas porem são iniciadas com os símbolos (). Elas podem receber qualquer tipo de objeto e são iteráveis."
   ]
  },
  {
   "cell_type": "code",
   "execution_count": 183,
   "metadata": {},
   "outputs": [],
   "source": [
    "## definido tupla1\n",
    "\n",
    "tupla1 = (1,2,3,4,5,6,7,'a','b')"
   ]
  },
  {
   "cell_type": "code",
   "execution_count": 184,
   "metadata": {},
   "outputs": [
    {
     "ename": "TypeError",
     "evalue": "'tuple' object does not support item assignment",
     "output_type": "error",
     "traceback": [
      "\u001b[0;31m---------------------------------------------------------------------------\u001b[0m",
      "\u001b[0;31mTypeError\u001b[0m                                 Traceback (most recent call last)",
      "\u001b[0;32m<ipython-input-184-0694aed024e4>\u001b[0m in \u001b[0;36m<module>\u001b[0;34m\u001b[0m\n\u001b[0;32m----> 1\u001b[0;31m \u001b[0mtupla1\u001b[0m\u001b[0;34m[\u001b[0m\u001b[0;34m-\u001b[0m\u001b[0;36m1\u001b[0m\u001b[0;34m]\u001b[0m \u001b[0;34m=\u001b[0m \u001b[0;36m0\u001b[0m\u001b[0;34m\u001b[0m\u001b[0;34m\u001b[0m\u001b[0m\n\u001b[0m",
      "\u001b[0;31mTypeError\u001b[0m: 'tuple' object does not support item assignment"
     ]
    }
   ],
   "source": [
    "## tuplas não aceitam qualquer tipo de alteração de valores já definidos\n",
    "\n",
    "tupla1[-1] = 0"
   ]
  },
  {
   "cell_type": "code",
   "execution_count": 187,
   "metadata": {},
   "outputs": [
    {
     "data": {
      "text/plain": [
       "(1, 2, 3, 4, 5, 6)"
      ]
     },
     "execution_count": 187,
     "metadata": {},
     "output_type": "execute_result"
    }
   ],
   "source": [
    "## somando tuplas\n",
    "\n",
    "(1,2,3) + (4,5,6)"
   ]
  },
  {
   "cell_type": "code",
   "execution_count": 193,
   "metadata": {},
   "outputs": [
    {
     "data": {
      "text/plain": [
       "1"
      ]
     },
     "execution_count": 193,
     "metadata": {},
     "output_type": "execute_result"
    }
   ],
   "source": [
    "## indexing\n",
    "\n",
    "tupla1[0]"
   ]
  },
  {
   "cell_type": "code",
   "execution_count": 194,
   "metadata": {},
   "outputs": [
    {
     "data": {
      "text/plain": [
       "(1, 2)"
      ]
     },
     "execution_count": 194,
     "metadata": {},
     "output_type": "execute_result"
    }
   ],
   "source": [
    "## slicing\n",
    "\n",
    "tupla1[:2]"
   ]
  },
  {
   "cell_type": "code",
   "execution_count": 195,
   "metadata": {},
   "outputs": [
    {
     "data": {
      "text/plain": [
       "(1, 3, 5, 7, 'b')"
      ]
     },
     "execution_count": 195,
     "metadata": {},
     "output_type": "execute_result"
    }
   ],
   "source": [
    "## slicing a cada\n",
    "\n",
    "tupla1[::2]"
   ]
  },
  {
   "cell_type": "code",
   "execution_count": 196,
   "metadata": {},
   "outputs": [],
   "source": [
    "tupla_complexa = (1,2,3,4,('a','b','c'))"
   ]
  },
  {
   "cell_type": "code",
   "execution_count": 198,
   "metadata": {},
   "outputs": [
    {
     "data": {
      "text/plain": [
       "'a'"
      ]
     },
     "execution_count": 198,
     "metadata": {},
     "output_type": "execute_result"
    }
   ],
   "source": [
    "tupla_complexa[-1][0]"
   ]
  },
  {
   "cell_type": "code",
   "execution_count": 202,
   "metadata": {},
   "outputs": [
    {
     "data": {
      "text/plain": [
       "(12, 11, 10, 10, 9, 9, 8, 8, 7, 6, 5)"
      ]
     },
     "execution_count": 202,
     "metadata": {},
     "output_type": "execute_result"
    }
   ],
   "source": [
    "tuple(lista2)"
   ]
  },
  {
   "cell_type": "markdown",
   "metadata": {},
   "source": [
    "# Dicionários\n",
    "\n",
    "___"
   ]
  },
  {
   "attachments": {
    "image.png": {
     "image/png": "[encoded data removed]"
    }
   },
   "cell_type": "markdown",
   "metadata": {},
   "source": [
    "Dicionários em python é uma estrutura de dados caracterizada pelo seguinte símbolo {}. Dicionários são iteráveis, desordenados, mutáveis e indexáveis. Todo dicionário em python possui chaves e valores. Os dicionários podem receber qualquer tipo de dados como valor.\n",
    "\n",
    "![image.png](attachment:image.png)"
   ]
  },
  {
   "cell_type": "code",
   "execution_count": 257,
   "metadata": {},
   "outputs": [],
   "source": [
    "## criando dicionários\n",
    "\n",
    "receita_strogonoff = {'alcatra':500,'manteiga':'1/4 xícara','cebola':1,'mostarda':'1 colher de sobremesa','ketchup':'1 colher de copa de ketchup',\n",
    "                     'pimenta-do-reino':1,'tomate':1,'cogumelo':'1 xícara','creme-de-leite':1}"
   ]
  },
  {
   "cell_type": "code",
   "execution_count": 258,
   "metadata": {},
   "outputs": [
    {
     "data": {
      "text/plain": [
       "{'alcatra': 500,\n",
       " 'manteiga': '1/4 xícara',\n",
       " 'cebola': 1,\n",
       " 'mostarda': '1 colher de sobremesa',\n",
       " 'ketchup': '1 colher de copa de ketchup',\n",
       " 'pimenta-do-reino': 1,\n",
       " 'tomate': 1,\n",
       " 'cogumelo': '1 xícara',\n",
       " 'creme-de-leite': 1,\n",
       " 'sal': 'um pouco'}"
      ]
     },
     "execution_count": 258,
     "metadata": {},
     "output_type": "execute_result"
    }
   ],
   "source": [
    "## adicionando itens ao dicitonário\n",
    "\n",
    "receita_strogonoff['sal'] = 'um pouco'\n",
    "receita_strogonoff"
   ]
  },
  {
   "cell_type": "code",
   "execution_count": 259,
   "metadata": {},
   "outputs": [
    {
     "data": {
      "text/plain": [
       "{'alcatra': '500 gramas',\n",
       " 'manteiga': '1/4 xícara',\n",
       " 'cebola': 1,\n",
       " 'mostarda': '1 colher de sobremesa',\n",
       " 'ketchup': '1 colher de copa de ketchup',\n",
       " 'pimenta-do-reino': 1,\n",
       " 'tomate': 1,\n",
       " 'cogumelo': '1 xícara',\n",
       " 'creme-de-leite': 1,\n",
       " 'sal': 'um pouco'}"
      ]
     },
     "execution_count": 259,
     "metadata": {},
     "output_type": "execute_result"
    }
   ],
   "source": [
    "## alterando um valor\n",
    "\n",
    "receita_strogonoff['alcatra'] = '500 gramas'\n",
    "receita_strogonoff"
   ]
  },
  {
   "cell_type": "code",
   "execution_count": 260,
   "metadata": {},
   "outputs": [
    {
     "data": {
      "text/plain": [
       "'1 colher de copa de ketchup'"
      ]
     },
     "execution_count": 260,
     "metadata": {},
     "output_type": "execute_result"
    }
   ],
   "source": [
    "## indexing\n",
    "\n",
    "receita_strogonoff['ketchup']"
   ]
  },
  {
   "cell_type": "code",
   "execution_count": 261,
   "metadata": {},
   "outputs": [
    {
     "data": {
      "text/plain": [
       "{'alcatra': '500 gramas',\n",
       " 'manteiga': '1/4 xícara',\n",
       " 'cebola': 1,\n",
       " 'mostarda': '1 colher de sobremesa',\n",
       " 'pimenta-do-reino': 1,\n",
       " 'tomate': 1,\n",
       " 'cogumelo': '1 xícara',\n",
       " 'creme-de-leite': 1,\n",
       " 'sal': 'um pouco'}"
      ]
     },
     "execution_count": 261,
     "metadata": {},
     "output_type": "execute_result"
    }
   ],
   "source": [
    "## deletando um valor\n",
    "\n",
    "del receita_strogonoff['ketchup']\n",
    "receita_strogonoff"
   ]
  },
  {
   "cell_type": "code",
   "execution_count": 264,
   "metadata": {},
   "outputs": [
    {
     "data": {
      "text/plain": [
       "dict_keys(['alcatra', 'manteiga', 'cebola', 'mostarda', 'pimenta-do-reino', 'tomate', 'cogumelo', 'creme-de-leite', 'sal'])"
      ]
     },
     "execution_count": 264,
     "metadata": {},
     "output_type": "execute_result"
    }
   ],
   "source": [
    "## acessando todas as chaves\n",
    "\n",
    "receita_strogonoff.keys()"
   ]
  },
  {
   "cell_type": "code",
   "execution_count": 265,
   "metadata": {},
   "outputs": [
    {
     "data": {
      "text/plain": [
       "dict_values(['500 gramas', '1/4 xícara', 1, '1 colher de sobremesa', 1, 1, '1 xícara', 1, 'um pouco'])"
      ]
     },
     "execution_count": 265,
     "metadata": {},
     "output_type": "execute_result"
    }
   ],
   "source": [
    "## acesssando todos os valores\n",
    "\n",
    "receita_strogonoff.values()"
   ]
  },
  {
   "cell_type": "code",
   "execution_count": 254,
   "metadata": {},
   "outputs": [
    {
     "data": {
      "text/plain": [
       "{}"
      ]
     },
     "execution_count": 254,
     "metadata": {},
     "output_type": "execute_result"
    }
   ],
   "source": [
    "## jogar todos os valores fora\n",
    "\n",
    "receita_strogonoff.clear()\n",
    "receita_strogonoff"
   ]
  },
  {
   "cell_type": "markdown",
   "metadata": {},
   "source": [
    "# Exercícios\n",
    "\n",
    "___"
   ]
  },
  {
   "cell_type": "markdown",
   "metadata": {},
   "source": [
    "1 - Crie uma lista 'a_list' com os seguintes valores: 1, hello, [1,2,3] e True.\n",
    "\n",
    "2 - Ache o valor em 'a_list' que esteja no índice -1\n",
    "\n",
    "3 - Encontre os valores em 'a_list' que estejam nos indices 1,2 e 3\n",
    "\n",
    "4 - Junte as seguinte listas A=[1,2,3,4,5] e B=[11,12,13,14,15]\n",
    "\n",
    "5 - Crie uma lista de listas 'list_list' que tenha os valores de 'a_list', 'A' e 'B'\n",
    "\n",
    "6 - Qual o tamanho de 'list_list'?\n",
    "\n",
    "7 - Adicione o valor 125 a 'list_list'\n",
    "\n",
    "8 - Remova a lista [1,2,3] de 'list_list' e guarde esse valor numa variável 'list_a'\n",
    "\n",
    "9 - Qual é o primeiro valor do segundo valor de [[1,3,5,7],[2,4,6,8,10]]?\n",
    "\n",
    "10 - Crie a tupla 'gnr' com os seguintes valores: rock, metal, sertanejo, pop, lo-fi e chillwave, nessa ordem.\n",
    "\n",
    "11 - Qual o terceiro valor da tupla 'gnr'?\n",
    "\n",
    "12 - Qual o índice de lofi?\n",
    "\n",
    "13 - Crie uma tupla de tuplas com as seguintes tuplas (15,30), (20,40) e (25,50). Qual o índice do valor 40?\n",
    "\n",
    "14 - Acesse a tupla 'gnr' a cada dois valores, qual gêneros musicais aparecem?\n",
    "\n",
    "15 - Crie o dicionário 'mcu' com os seguintes dados, 'Homem de Ferro':2008, 'Homem de Ferro 2':2010, 'Homem de ferro 3':2013, 'Avengers: \n",
    "Endgame':2019.\n",
    "\n",
    "16 - No dicionário 'mcu' quais são os valores?\n",
    "\n",
    "17 - No dicińario 'mcu' quais são as chaves?\n",
    "\n",
    "18 - Adicione ao dicionário 'mcu' os seguintes filmes: 'Avengers Infinity War':2018, 'Avengers Age of Ultron':2015.\n",
    "\n",
    "19 - Delete o filme 'Homem de Ferro 3' do dicionário 'mcu'\n",
    "\n",
    "20 - Limpe o dicionário 'mcu'\n",
    "\n",
    "21 - Crie um dicionário de dicionários 'mcu' com os seguintes dados:\n",
    "\n",
    "'homem de ferro':{'filmes':3,'ator principal':'Robert Downey Jr.'},'Cpt.América':{'filmes':3,'ator principal':'Chris Evans'}\n",
    "\n",
    "22 - Acesse somente a quantidade de filmes de cada um dos dicionários.\n",
    "\n",
    "23 - Quais são as chaves do dicionário de dicionários 'mcu'?\n",
    "\n",
    "24 - Qual o tamanho do dicionário de dicionários 'mcu'?"
   ]
  },
  {
   "cell_type": "code",
   "execution_count": null,
   "metadata": {},
   "outputs": [],
   "source": []
  }
 ],
 "metadata": {
  "kernelspec": {
   "display_name": "Python 3.7.5 64-bit ('miniconda3': virtualenv)",
   "language": "python",
   "name": "python37564bitminiconda3virtualenvaae6906fdf41426e8b8c7cdd03524cfb"
  },
  "language_info": {
   "codemirror_mode": {
    "name": "ipython",
    "version": 3
   },
   "file_extension": ".py",
   "mimetype": "text/x-python",
   "name": "python",
   "nbconvert_exporter": "python",
   "pygments_lexer": "ipython3",
   "version": "3.7.5"
  }
 },
 "nbformat": 4,
 "nbformat_minor": 4
}
