{
 "cells": [
  {
   "cell_type": "markdown",
   "metadata": {},
   "source": [
    "# Funções\n",
    "\n",
    "___\n",
    "\n",
    "Funções são blocos de código que só rodam quando são chamados. Informação pode ser inputada nas funções utilizando parâmetros. Um função pode ter vários parâmetros. A utilização de funções é algo importante na ciência de dados, principalmente para automatização de atividades de feature engineering, por exemplo. Toda função em python é criada utilizando a palavra reservada 'def'."
   ]
  },
  {
   "cell_type": "code",
   "execution_count": 7,
   "metadata": {},
   "outputs": [],
   "source": [
    "## definindo a função hello\n",
    "\n",
    "def hello(name):\n",
    "    print('Hello,',name)"
   ]
  },
  {
   "cell_type": "code",
   "execution_count": 17,
   "metadata": {},
   "outputs": [
    {
     "name": "stdout",
     "output_type": "stream",
     "text": [
      "Hello, nasser\n",
      "Hello, joão\n",
      "Hello, maria\n"
     ]
    }
   ],
   "source": [
    "## utilizando a função hello com loop for\n",
    "\n",
    "ls = ['nasser','joão','maria']\n",
    "\n",
    "for name in ls:\n",
    "    hello(name)"
   ]
  },
  {
   "cell_type": "code",
   "execution_count": 19,
   "metadata": {},
   "outputs": [],
   "source": [
    "## definindo a função square\n",
    "\n",
    "def square(number):\n",
    "    print(number**2)"
   ]
  },
  {
   "cell_type": "code",
   "execution_count": 20,
   "metadata": {},
   "outputs": [
    {
     "name": "stdout",
     "output_type": "stream",
     "text": [
      "100\n",
      "121\n",
      "144\n",
      "169\n",
      "196\n",
      "225\n",
      "256\n",
      "289\n",
      "324\n",
      "361\n",
      "400\n"
     ]
    }
   ],
   "source": [
    "## usando a função square com \n",
    "\n",
    "for number in range(10,21):\n",
    "    square(number)"
   ]
  },
  {
   "cell_type": "code",
   "execution_count": 25,
   "metadata": {},
   "outputs": [],
   "source": [
    "## definindo uma função que recebe uma lista\n",
    "\n",
    "def ls_square(lista):\n",
    "    print([x**2 for x in lista])"
   ]
  },
  {
   "cell_type": "code",
   "execution_count": 26,
   "metadata": {},
   "outputs": [
    {
     "name": "stdout",
     "output_type": "stream",
     "text": [
      "[1, 4, 9, 16, 25]\n"
     ]
    }
   ],
   "source": [
    "ls_square([1,2,3,4,5])"
   ]
  },
  {
   "cell_type": "markdown",
   "metadata": {},
   "source": [
    "Funções podem receber mais de um parâmetro, basta que estes sejam definidos ao criar a função."
   ]
  },
  {
   "cell_type": "code",
   "execution_count": 28,
   "metadata": {},
   "outputs": [],
   "source": [
    "## criando uma função com vários parâmetros\n",
    "\n",
    "def power(numero,potencia):\n",
    "    print(numero**potencia)"
   ]
  },
  {
   "cell_type": "code",
   "execution_count": 29,
   "metadata": {},
   "outputs": [
    {
     "name": "stdout",
     "output_type": "stream",
     "text": [
      "15625\n"
     ]
    }
   ],
   "source": [
    "power(25,3)"
   ]
  },
  {
   "cell_type": "code",
   "execution_count": 33,
   "metadata": {},
   "outputs": [
    {
     "name": "stdout",
     "output_type": "stream",
     "text": [
      "3375\n"
     ]
    }
   ],
   "source": [
    "## o nome do parâmetro pode ser utilizado e quando o fazemos, não precisamos nos preocupar com a ordem\n",
    "\n",
    "power(potencia=3,numero=15)"
   ]
  },
  {
   "cell_type": "code",
   "execution_count": 34,
   "metadata": {},
   "outputs": [],
   "source": [
    "## o parâmetro pode receber um valor padrão que só será alterado se for explicitamente chamado\n",
    "\n",
    "def potencia(numero,potencia=2):\n",
    "    print(numero**potencia)"
   ]
  },
  {
   "cell_type": "code",
   "execution_count": 35,
   "metadata": {},
   "outputs": [
    {
     "name": "stdout",
     "output_type": "stream",
     "text": [
      "100\n"
     ]
    }
   ],
   "source": [
    "## chamando potencia sem definir a potencia\n",
    "\n",
    "potencia(10)"
   ]
  },
  {
   "cell_type": "code",
   "execution_count": 36,
   "metadata": {},
   "outputs": [
    {
     "name": "stdout",
     "output_type": "stream",
     "text": [
      "1000\n"
     ]
    }
   ],
   "source": [
    "## chamando potencia alterando o valor da potencia\n",
    "\n",
    "potencia(10,3)"
   ]
  },
  {
   "cell_type": "markdown",
   "metadata": {},
   "source": [
    "Uma função também pode receber um número arbitrário de parâmetros utilizando '*'."
   ]
  },
  {
   "cell_type": "code",
   "execution_count": 47,
   "metadata": {},
   "outputs": [],
   "source": [
    "def upper_a_cada_dois(*nomes):\n",
    "    a = nomes[::2]\n",
    "    print([nome.upper() for nome in a])"
   ]
  },
  {
   "cell_type": "code",
   "execution_count": 48,
   "metadata": {},
   "outputs": [
    {
     "name": "stdout",
     "output_type": "stream",
     "text": [
      "['NASSER', 'MARIA', 'JOANA', 'ANDREIA']\n"
     ]
    }
   ],
   "source": [
    "upper_a_cada_dois('nasser','joão','maria','marcelo','joana','mateus','andreia')"
   ]
  },
  {
   "cell_type": "code",
   "execution_count": 49,
   "metadata": {},
   "outputs": [],
   "source": [
    "def count_ingredientes(*ingredientes):\n",
    "    \n",
    "    inicio_b = 0\n",
    "    other_b = 0\n",
    "    \n",
    "    for ingrediente in ingredientes:\n",
    "        \n",
    "        if ingrediente[0] == 'b':\n",
    "            inicio_b += 1\n",
    "        else:\n",
    "            other_b += 1\n",
    "            \n",
    "    print(inicio_b,other_b)"
   ]
  },
  {
   "cell_type": "code",
   "execution_count": 50,
   "metadata": {},
   "outputs": [
    {
     "name": "stdout",
     "output_type": "stream",
     "text": [
      "2 4\n"
     ]
    }
   ],
   "source": [
    "count_ingredientes('bacon','queijo','pão','bife','tomate','alface')"
   ]
  },
  {
   "cell_type": "markdown",
   "metadata": {},
   "source": [
    "Funções em python podem retornar valores que podem ser guardados em variáveis, para isso, devemos usar o 'return'. Veja diferença abaixo."
   ]
  },
  {
   "cell_type": "code",
   "execution_count": 52,
   "metadata": {},
   "outputs": [],
   "source": [
    "def cube(numero):\n",
    "    numero**3\n",
    "    \n",
    "def ret_cube(numero):\n",
    "    return numero**3"
   ]
  },
  {
   "cell_type": "code",
   "execution_count": 53,
   "metadata": {},
   "outputs": [],
   "source": [
    "## Veja que ao executar a função abaixo ela não retorna nada apesar de processamento ter sido gasto para executar a função.\n",
    "\n",
    "cube(10)"
   ]
  },
  {
   "cell_type": "code",
   "execution_count": 54,
   "metadata": {},
   "outputs": [],
   "source": [
    "## Se tentarmos guardar a saída da função cube em uma variável o seguinte comportamento acontece\n",
    "\n",
    "cube10 = cube(10)"
   ]
  },
  {
   "cell_type": "code",
   "execution_count": 56,
   "metadata": {},
   "outputs": [
    {
     "name": "stdout",
     "output_type": "stream",
     "text": [
      "None\n"
     ]
    }
   ],
   "source": [
    "## Verificando o valor guardado dentro da variável cube10\n",
    "\n",
    "print(cube10)"
   ]
  },
  {
   "cell_type": "code",
   "execution_count": 57,
   "metadata": {},
   "outputs": [
    {
     "data": {
      "text/plain": [
       "1000"
      ]
     },
     "execution_count": 57,
     "metadata": {},
     "output_type": "execute_result"
    }
   ],
   "source": [
    "## Usando a função com return o comportamento muda entregando uma valor ao final da sua execução, esse valor por ser guardado ou não em alguma variável.\n",
    "\n",
    "ret_cube(10)"
   ]
  },
  {
   "cell_type": "code",
   "execution_count": 58,
   "metadata": {},
   "outputs": [],
   "source": [
    "## Usando a função com return o valor pode ser guardado em um variável e acessado depois\n",
    "\n",
    "returned_value = ret_cube(10)"
   ]
  },
  {
   "cell_type": "code",
   "execution_count": 60,
   "metadata": {},
   "outputs": [
    {
     "name": "stdout",
     "output_type": "stream",
     "text": [
      "1000\n"
     ]
    }
   ],
   "source": [
    "## Verificando o valor guardado dentro da variável returned_value\n",
    "\n",
    "print(returned_value)"
   ]
  },
  {
   "cell_type": "markdown",
   "metadata": {},
   "source": [
    "## Funções lambda\n",
    "\n",
    "___\n",
    "\n",
    "A função lambda é uma forma pythonica de escrever uma função. Ela também é chamada de função anônima porque, normalmente, não se atribui nenhum nome a ela. Pode ser definida utilizando a palavra reservada 'lambda'. Sua anatomia:\n",
    "\n",
    "LAMBDA <parâmetro> : <código a ser executado>\n",
    "\n",
    "obs.: funções lambda não necessitam de 'return'."
   ]
  },
  {
   "cell_type": "code",
   "execution_count": 74,
   "metadata": {},
   "outputs": [],
   "source": [
    "## elas podem ser guardadas dentro de variáveis e chamadas\n",
    "\n",
    "a = lambda x: x**2"
   ]
  },
  {
   "cell_type": "code",
   "execution_count": 75,
   "metadata": {},
   "outputs": [
    {
     "data": {
      "text/plain": [
       "225"
      ]
     },
     "execution_count": 75,
     "metadata": {},
     "output_type": "execute_result"
    }
   ],
   "source": [
    "a(15)"
   ]
  },
  {
   "cell_type": "code",
   "execution_count": 76,
   "metadata": {},
   "outputs": [
    {
     "data": {
      "text/plain": [
       "125"
      ]
     },
     "execution_count": 76,
     "metadata": {},
     "output_type": "execute_result"
    }
   ],
   "source": [
    "(lambda x: x**3)(5)"
   ]
  },
  {
   "cell_type": "markdown",
   "metadata": {},
   "source": [
    "## Exercícios\n",
    "\n",
    "___\n",
    "\n",
    "1 - Escreva uma função python que receba uma lista e separe os múltiplos de 5. Ao final ela retorna a soma de todos os valores na lista de multiplos de 5. Escreva a função de tal forma que ela só possa receber listas e não outros tipos de dados.\n",
    "\n",
    "2 - Escreva uma função que receba um número aleatório de parâmetros some somente os números. (use *args)\n",
    "\n",
    "3 - Escreva uma função para verificar se uma palavra é um palíndromo.\n",
    "\n",
    "4 - Escreva uma função que receba uma lista crie um dicionário com a contagem dos valores dessa lista.\n",
    "\n",
    "5 - Escreva uma função que receba uma lista de listas, itere sobre cada lista, some seus valores, gere uma segunda lista e descubra o desvio padrão dela.\n",
    "\n",
    "entrada : [[12,12,5,6,3,6,8,5,5,5],[3,3,3,3,4,4,15,89,20,20],[15,15,15,20,30,35,35,35,15,15],[10,10,10,10,15,15,15,15],[5,5,2,2],[8,8,89,89,898,1000]]\n",
    "\n",
    "6 - Escreva uma função que gere uma sequencia de Fibonnaci. O único parâmetro é a quantidade de números que devem gerados. (Fibonnaci é uma sequencia onde o próximo número é a soma dos dois imediatamente anteriores a ele).\n",
    "\n",
    "7 - Monte uma função que vai calcular e comparar os custos de uma viagem para 3 cidades diferentes e irá recomendar qual a viagem mais barata. Essa função deve receber somente uma parâmetro 'noites'. A partir desse argumento a função deve calcular o custo total de viagem de para três coisas: hotel, alimentação e locomoção; de cada uma das cidades. O output da função devem ser duas coisas: 1 - o custo total da viagem por cidade com a mé dia por noite; 2 - A cidade escolhida para viagem. Utilize os dados abaixo.\n",
    "\n",
    "\n",
    "|   Cidade  | Hotel/noite | Alimentação/noite | Locomoção/noite |\n",
    "|:---------:|:-----------:|:-----------------:|:---------------:|\n",
    "| Abu Dhabi |     1300    |        200        |       150       |\n",
    "|  Genebra  |     1200    |        150        |        80       |\n",
    "|    Oslo   |     1000    |        250        |       100       |\n",
    "\n",
    "\n",
    "** DESAFIO **\n",
    "8 - Defina uma função que calcule o z-score de todos os valores de uma lista e encontre quem são os outliers (z-score abaixo de -3 e acima de 3). Use a lista abaixo:\n",
    "\n",
    "lista8 = [201, 102, -5558, 232, 213, -9249, -247, 1183, 211, 7598, 130, 61, 192, 207, -46, 170, 116, 106, 225, 75, 138, 107, 108, -33, -9, 170, 147, 175, 137, -5, -9, 16600, 171, 183, 147, 171, 143, 104, 7, 227, 127, 173, 178, 194, 110, 20, 99, 11, 41, 242, 250, 62, 230, -32, 239, 241, 30, -35, 132, 214, 58, 90, -12, -24, 177, 116, 53, -26, 144, 29, 41, 217, 114, 109, -15, 32, 110, 162, 221, -16, 210, 87, 76, 3100, 73, 174, 194, 93, -9, 241, 234, 79, -4800, -22, -41, 224, 249, 114, -29, 79]"
   ]
  },
  {
   "cell_type": "code",
   "execution_count": 99,
   "metadata": {},
   "outputs": [],
   "source": [
    "## Questão 1\n",
    "\n",
    "def quest1(lista):\n",
    "    \n",
    "    if type(lista) != list:\n",
    "        print('Você não passou uma lista.')\n",
    "        \n",
    "    else:\n",
    "        \n",
    "        div5 = []\n",
    "        \n",
    "        for number in lista:\n",
    "            \n",
    "            if number % 5 == 0:\n",
    "                \n",
    "                div5.append(number)\n",
    "    \n",
    "    print('Valores :',div5)\n",
    "    return sum(div5)"
   ]
  },
  {
   "cell_type": "code",
   "execution_count": 100,
   "metadata": {},
   "outputs": [
    {
     "name": "stdout",
     "output_type": "stream",
     "text": [
      "Valores : [5, 10, 15, 20]\n"
     ]
    },
    {
     "data": {
      "text/plain": [
       "50"
      ]
     },
     "execution_count": 100,
     "metadata": {},
     "output_type": "execute_result"
    }
   ],
   "source": [
    "quest1([1,2,3,4,5,6,7,8,9,10,11,12,13,14,15,16,17,18,19,20])"
   ]
  },
  {
   "cell_type": "code",
   "execution_count": 101,
   "metadata": {},
   "outputs": [],
   "source": [
    "## Questão 2\n",
    "\n",
    "def quest2(*args):\n",
    "    \n",
    "    numbers = []\n",
    "    \n",
    "    for arg in args:\n",
    "        \n",
    "        if (type(arg) == int) or (type(arg) == float):\n",
    "            \n",
    "            numbers.append(arg)\n",
    "        else:\n",
    "            pass\n",
    "    \n",
    "    print(numbers)\n",
    "    return sum(numbers)"
   ]
  },
  {
   "cell_type": "code",
   "execution_count": 102,
   "metadata": {},
   "outputs": [
    {
     "name": "stdout",
     "output_type": "stream",
     "text": [
      "[5, 10, 15, 15, 15, 15, 11.2]\n"
     ]
    },
    {
     "data": {
      "text/plain": [
       "86.2"
      ]
     },
     "execution_count": 102,
     "metadata": {},
     "output_type": "execute_result"
    }
   ],
   "source": [
    "quest2(5,10,15,15,15,15,11.2,'bacon','lasanha','ovo')"
   ]
  },
  {
   "cell_type": "code",
   "execution_count": 103,
   "metadata": {},
   "outputs": [],
   "source": [
    "## Questão 3\n",
    "\n",
    "def quest3(palavra):\n",
    "    \n",
    "    if palavra.lower() == palavra[::-1].lower():\n",
    "        print('Essa palavra é um palíndromo!')\n",
    "    else:\n",
    "        print('Essa palavra não é um palíndromo!')"
   ]
  },
  {
   "cell_type": "code",
   "execution_count": 104,
   "metadata": {},
   "outputs": [
    {
     "name": "stdout",
     "output_type": "stream",
     "text": [
      "Essa palavra não é um palíndromo!\n"
     ]
    }
   ],
   "source": [
    "quest3('bacon')"
   ]
  },
  {
   "cell_type": "code",
   "execution_count": 105,
   "metadata": {},
   "outputs": [
    {
     "name": "stdout",
     "output_type": "stream",
     "text": [
      "Essa palavra é um palíndromo!\n"
     ]
    }
   ],
   "source": [
    "quest3('Natan')"
   ]
  },
  {
   "cell_type": "code",
   "execution_count": 106,
   "metadata": {},
   "outputs": [],
   "source": [
    "## Questão 4\n",
    "\n",
    "def quest4(lista):\n",
    "    \n",
    "    if type(lista) == list:\n",
    "    \n",
    "        mode = {}\n",
    "    \n",
    "        for num in lista:\n",
    "            mode[num] = lista.count(num)\n",
    "        \n",
    "        return mode\n",
    "    else:\n",
    "        print('Você não passou uma lista.')"
   ]
  },
  {
   "cell_type": "code",
   "execution_count": 107,
   "metadata": {},
   "outputs": [
    {
     "data": {
      "text/plain": [
       "{1: 6, 2: 6, 3: 5, 4: 5, 5: 5, 6: 3}"
      ]
     },
     "execution_count": 107,
     "metadata": {},
     "output_type": "execute_result"
    }
   ],
   "source": [
    "quest4([1,1,1,1,1,1,2,2,2,2,2,2,3,3,3,3,3,4,4,4,4,4,5,5,5,5,5,6,6,6])"
   ]
  },
  {
   "cell_type": "code",
   "execution_count": 108,
   "metadata": {},
   "outputs": [
    {
     "name": "stdout",
     "output_type": "stream",
     "text": [
      "Você não passou uma lista.\n"
     ]
    }
   ],
   "source": [
    "quest4((15,15,151,2,2,2,2,2,2))"
   ]
  },
  {
   "cell_type": "code",
   "execution_count": 109,
   "metadata": {},
   "outputs": [],
   "source": [
    "## Questão 5\n",
    "\n",
    "ls = [[12,12,5,6,3,6,8,5,5,5],[3,3,3,3,4,4,15,89,20,20],[15,15,15,20,30,35,35,35,15,15],[10,10,10,10,15,15,15,15],[5,5,2,2],[8,8,89,89,898,1000]]\n",
    "\n",
    "def desvio_padrao(lista):\n",
    "    \n",
    "    media = sum(lista)/len(lista)\n",
    "    \n",
    "    desvio = (sum([(x-media)**2 for x in lista])/len(lista))**(1/2)\n",
    "    \n",
    "    return desvio\n",
    "\n",
    "\n",
    "def quest5(lista_de_listas):\n",
    "    \n",
    "    new_list = []\n",
    "    \n",
    "    for lista in lista_de_listas:\n",
    "        new_list.append(sum(lista))\n",
    "    \n",
    "    print(new_list)\n",
    "    return desvio_padrao(new_list)"
   ]
  },
  {
   "cell_type": "code",
   "execution_count": 110,
   "metadata": {},
   "outputs": [
    {
     "name": "stdout",
     "output_type": "stream",
     "text": [
      "[67, 164, 230, 100, 14, 2092]\n"
     ]
    },
    {
     "data": {
      "text/plain": [
       "739.9846282187218"
      ]
     },
     "execution_count": 110,
     "metadata": {},
     "output_type": "execute_result"
    }
   ],
   "source": [
    "quest5(ls)"
   ]
  },
  {
   "cell_type": "code",
   "execution_count": 111,
   "metadata": {},
   "outputs": [],
   "source": [
    "## Questão 6\n",
    "\n",
    "\n",
    "def quest6_fibo(value):\n",
    "       \n",
    "    i = 1\n",
    "        \n",
    "    if value == 0:\n",
    "        fib = []\n",
    "    \n",
    "    elif value == 1:\n",
    "        fib = [1]\n",
    "    \n",
    "    elif value == 2:\n",
    "        fib = [1,1]\n",
    "    \n",
    "    elif value > 2:\n",
    "    \n",
    "        fib = [1,1]\n",
    "        \n",
    "        while i < (value - 1):\n",
    "            fib.append(fib[i] + fib[i-1])\n",
    "            \n",
    "            i += 1\n",
    "        \n",
    "    return fib"
   ]
  },
  {
   "cell_type": "code",
   "execution_count": 112,
   "metadata": {},
   "outputs": [
    {
     "data": {
      "text/plain": [
       "[1, 1, 2, 3, 5, 8, 13, 21, 34, 55]"
      ]
     },
     "execution_count": 112,
     "metadata": {},
     "output_type": "execute_result"
    }
   ],
   "source": [
    "quest6_fibo(10)"
   ]
  },
  {
   "cell_type": "code",
   "execution_count": 113,
   "metadata": {},
   "outputs": [],
   "source": [
    "## questao 7\n",
    "\n",
    "\n",
    "def quest7(noites):\n",
    "    \n",
    "    total_abu = ((1300*noites)+(200*noites)+(150*noites)) \n",
    "    total_genebra = ((1200*noites)+(150*noites)+(80*noites))\n",
    "    total_oslo = ((1000*noites)+(250*noites)+(100*noites))\n",
    "    \n",
    "    totais = (total_abu,total_genebra,total_oslo)\n",
    "       \n",
    "    local =  totais.index(min(totais))\n",
    "    \n",
    "    print(f'Abu Dhabi: {totais[0]}, Genebra: {totais[1]}, Oslo: {totais[2]}\\n')\n",
    "    \n",
    "    if local == 0:\n",
    "        print(f'O local mais barato é Abu Dhabi:\\nValor >> {min(totais)}\\nMedia >> {min(totais)/noites} por noite')\n",
    "    elif local == 1:\n",
    "        print(f'O local mais barato é Genebra:\\nValor >> {min(totais)}\\nMedia >> {min(totais)/noites} por noite')\n",
    "    elif local == 2:\n",
    "        print(f'O local mais barato é Oslo:\\nValor >> {min(totais)}\\nMedia >> {min(totais)/noites} por noite')\n",
    "    "
   ]
  },
  {
   "cell_type": "markdown",
   "metadata": {},
   "source": [
    "|   Cidade  | Hotel/noite | Alimentação/noite | Locomoção/noite |\n",
    "|:---------:|:-----------:|:-----------------:|:---------------:|\n",
    "| Abu Dhabi |     1300    |        200        |       150       |\n",
    "|  Genebra  |     1200    |        150        |        80       |\n",
    "|    Oslo   |     1000    |        250        |       100       |"
   ]
  },
  {
   "cell_type": "code",
   "execution_count": 114,
   "metadata": {},
   "outputs": [
    {
     "name": "stdout",
     "output_type": "stream",
     "text": [
      "Abu Dhabi: 21450, Genebra: 18590, Oslo: 17550\n",
      "\n",
      "O local mais barato é Oslo:\n",
      "Valor >> 17550\n",
      "Media >> 1350.0 por noite\n"
     ]
    }
   ],
   "source": [
    "quest7(13)"
   ]
  },
  {
   "cell_type": "code",
   "execution_count": 115,
   "metadata": {},
   "outputs": [],
   "source": [
    "## Questao 8\n",
    "\n",
    "lista8 = [201, 102, -5558, 232, 213, -9249, -247, 1183, 211, 7598, 130, 61, 192, 207, -46, 170, 116, 106, 225, 75, 138, 107, 108, -33, -9, 170, 147, 175, 137, -5, -9, 16600, 171, 183, 147, 171, 143, 104, 7, 227, 127, 173, 178, 194, 110, 20, 99, 11, 41, 242, 250, 62, 230, -32, 239, 241, 30, -35, 132, 214, 58, 90, -12, -24, 177, 116, 53, -26, 144, 29, 41, 217, 114, 109, -15, 32, 110, 162, 221, -16, 210, 87, 76, 3100, 73, 174, 194, 93, -9, 241, 234, 79, -4800, -22, -41, 224, 249, 114, -29, 79]\n",
    "\n",
    "def outlier(lista):\n",
    "    \n",
    "    media = sum(lista)/len(lista)\n",
    "    \n",
    "    desvio = desvio_padrao(lista)\n",
    "    \n",
    "    z_score_list = [((x - media)/desvio) for x in lista]\n",
    "    \n",
    "    return z_score_list\n",
    "\n",
    "def quest8(lista):\n",
    "    \n",
    "    z_score_list = outlier(lista)\n",
    "        \n",
    "    new_z = []\n",
    "    \n",
    "    for i in range(len(lista)):\n",
    "        \n",
    "        if z_score_list[i] >= 3 or z_score_list[i] <= -3:\n",
    "            \n",
    "            new_z.append((lista[i],'outlier'))\n",
    "    \n",
    "    return new_z"
   ]
  },
  {
   "cell_type": "code",
   "execution_count": 116,
   "metadata": {},
   "outputs": [
    {
     "data": {
      "text/plain": [
       "[(-9249, 'outlier'), (7598, 'outlier'), (16600, 'outlier')]"
      ]
     },
     "execution_count": 116,
     "metadata": {},
     "output_type": "execute_result"
    }
   ],
   "source": [
    "quest8(lista8)"
   ]
  }
 ],
 "metadata": {
  "kernelspec": {
   "display_name": "Python 3",
   "language": "python",
   "name": "python3"
  },
  "language_info": {
   "codemirror_mode": {
    "name": "ipython",
    "version": 3
   },
   "file_extension": ".py",
   "mimetype": "text/x-python",
   "name": "python",
   "nbconvert_exporter": "python",
   "pygments_lexer": "ipython3",
   "version": "3.7.6"
  }
 },
 "nbformat": 4,
 "nbformat_minor": 4
}
