{
 "cells": [
  {
   "cell_type": "markdown",
   "metadata": {},
   "source": [
    "# Loops\n",
    "\n",
    "___\n",
    "\n",
    "Loops em python são utilizado para iterar sobre uma sequência de valores (listas, tuplas, dicionários ou strings). Loops são executados por toda extensão da lista ou até encontrarem uma condição que os faça parar."
   ]
  },
  {
   "cell_type": "code",
   "execution_count": 1,
   "metadata": {},
   "outputs": [
    {
     "name": "stdout",
     "output_type": "stream",
     "text": [
      "1\n",
      "4\n",
      "9\n",
      "16\n",
      "25\n",
      "36\n"
     ]
    }
   ],
   "source": [
    "## Exemplo de loop for\n",
    "\n",
    "lista = [1,2,3,4,5,6]\n",
    "\n",
    "for item in lista:\n",
    "    x = item ** 2\n",
    "    print(x)"
   ]
  },
  {
   "cell_type": "markdown",
   "metadata": {},
   "source": [
    "O loop for recebe um iterável e executa um bloco de código com cada valor daquele iterável."
   ]
  },
  {
   "cell_type": "code",
   "execution_count": 2,
   "metadata": {},
   "outputs": [
    {
     "name": "stdout",
     "output_type": "stream",
     "text": [
      "l\n",
      "a\n",
      "s\n",
      "a\n",
      "n\n",
      "h\n",
      "a\n",
      " \n",
      "n\n",
      "ã\n",
      "o\n",
      " \n",
      "é\n",
      " \n",
      "c\n",
      "a\n",
      "f\n",
      "é\n",
      " \n",
      "d\n",
      "a\n",
      " \n",
      "m\n",
      "a\n",
      "n\n",
      "h\n",
      "ã\n"
     ]
    }
   ],
   "source": [
    "## Loop for com strings\n",
    "\n",
    "verdade_universal = 'lasanha não é café da manhã'\n",
    "\n",
    "for palavra in verdade_universal:\n",
    "    print(palavra)\n"
   ]
  },
  {
   "cell_type": "code",
   "execution_count": 3,
   "metadata": {},
   "outputs": [
    {
     "name": "stdout",
     "output_type": "stream",
     "text": [
      "LASANHA\n",
      "NÃO\n",
      "É\n",
      "CAFÉ\n",
      "DA\n",
      "MANHÃ\n"
     ]
    }
   ],
   "source": [
    "for palavra in verdade_universal.split():\n",
    "    print(palavra.upper())"
   ]
  },
  {
   "cell_type": "markdown",
   "metadata": {},
   "source": [
    "O bloco de código que é executado por cada iteração pode ser complexo com condições lógicas."
   ]
  },
  {
   "cell_type": "code",
   "execution_count": 4,
   "metadata": {},
   "outputs": [
    {
     "name": "stdout",
     "output_type": "stream",
     "text": [
      "O número 1 é impar!\n",
      "O número 2 é par!\n",
      "O número 3 é impar!\n",
      "O número 4 é par!\n",
      "O número 5 é impar!\n",
      "O número 6 é par!\n",
      "O número 7 é impar!\n",
      "O número 8 é par!\n",
      "O número 9 é impar!\n",
      "O número 10 é par!\n"
     ]
    }
   ],
   "source": [
    "lista = [1,2,3,4,5,6,7,8,9,10]\n",
    "\n",
    "for numero in lista:\n",
    "    if numero % 2 == 0:\n",
    "        print(f'O número {numero} é par!')\n",
    "    else:\n",
    "        print(f'O número {numero} é impar!')"
   ]
  },
  {
   "cell_type": "markdown",
   "metadata": {},
   "source": [
    "Podemos passar a palavra reservada 'break' para quebrar a execução de um for loop."
   ]
  },
  {
   "cell_type": "code",
   "execution_count": 5,
   "metadata": {},
   "outputs": [
    {
     "name": "stdout",
     "output_type": "stream",
     "text": [
      "Ainda não!\n",
      "Ainda não!\n",
      "Ainda não!\n",
      "Ainda não!\n",
      "Achei! 5\n"
     ]
    }
   ],
   "source": [
    "lista = [1,2,3,4,5,6,7,8,9,10]\n",
    "\n",
    "for numero in lista:\n",
    "    if numero % 5 == 0:\n",
    "        print(f'Achei! {numero}')\n",
    "        break\n",
    "        print('Parei!')\n",
    "    else:\n",
    "        print('Ainda não!')"
   ]
  },
  {
   "cell_type": "markdown",
   "metadata": {},
   "source": [
    "Podemos ainda usar a palavra reservada 'continue' para travar a execução daquela iteração e seguir para a próxima."
   ]
  },
  {
   "cell_type": "code",
   "execution_count": 6,
   "metadata": {},
   "outputs": [
    {
     "name": "stdout",
     "output_type": "stream",
     "text": [
      "banana\n"
     ]
    }
   ],
   "source": [
    "frutas = ['maça','banana','mamão','melancia','maracujá']\n",
    "\n",
    "for fruta in frutas:\n",
    "    if fruta[0] == 'm':\n",
    "        continue\n",
    "    else:\n",
    "        print(fruta)"
   ]
  },
  {
   "cell_type": "code",
   "execution_count": 7,
   "metadata": {},
   "outputs": [],
   "source": [
    "chocolates = {'chocolate1':{'id':1,'cor':'azul'},\n",
    "              'chocolate2':{'id':2,'cor':'amarela'},\n",
    "              'chocolate3':{'id':3,'cor':'amarela'},\n",
    "              'chocolate4':{'id':4,'cor':'azul'},\n",
    "              'chocolate5':{'id':5,'cor':'verde'},\n",
    "              'chocolate6':{'id':6,'cor':'azul'}}\n",
    "\n",
    "\n",
    "caixa_azul = []\n",
    "caixa_amarela = []\n",
    "\n",
    "for chocolate in chocolates.values():\n",
    "    if chocolate['cor'] == 'azul':\n",
    "        caixa_azul.append(chocolate)\n",
    "    elif chocolate['cor'] == 'amarela':\n",
    "        caixa_amarela.append(chocolate)\n",
    "    else:\n",
    "        continue"
   ]
  },
  {
   "cell_type": "code",
   "execution_count": 8,
   "metadata": {},
   "outputs": [
    {
     "name": "stdout",
     "output_type": "stream",
     "text": [
      "[{'id': 1, 'cor': 'azul'}, {'id': 4, 'cor': 'azul'}, {'id': 6, 'cor': 'azul'}]\n",
      "[{'id': 2, 'cor': 'amarela'}, {'id': 3, 'cor': 'amarela'}]\n"
     ]
    }
   ],
   "source": [
    "print(caixa_azul)\n",
    "print(caixa_amarela)"
   ]
  },
  {
   "cell_type": "markdown",
   "metadata": {},
   "source": [
    "## Compreensão de lista\n",
    "\n",
    "___\n",
    "\n",
    "Compreensão de listas são uma forma de trabalhar com listas e loops for de uma forma simples e considerada pythonica."
   ]
  },
  {
   "cell_type": "code",
   "execution_count": 10,
   "metadata": {},
   "outputs": [
    {
     "data": {
      "text/plain": [
       "[1, 4, 9, 16, 25, 36, 49, 64, 81, 100]"
      ]
     },
     "execution_count": 10,
     "metadata": {},
     "output_type": "execute_result"
    }
   ],
   "source": [
    "ls = [1,2,3,4,5,6,7,8,9,10]\n",
    "\n",
    "[x**2 for x in ls]"
   ]
  },
  {
   "cell_type": "code",
   "execution_count": 14,
   "metadata": {},
   "outputs": [
    {
     "name": "stdout",
     "output_type": "stream",
     "text": [
      "1\n",
      "4\n",
      "9\n",
      "16\n",
      "25\n",
      "36\n",
      "49\n",
      "64\n",
      "81\n",
      "100\n"
     ]
    }
   ],
   "source": [
    "for x in ls:\n",
    "    print(x**2)"
   ]
  },
  {
   "cell_type": "markdown",
   "metadata": {},
   "source": [
    "As duas funções acima fazem basicamente a mesma coisa, porém a primeira retorna uma lista e a segunda não. Porém em termos de funcionalidade ambas são iguais. A anatomia de uma compreensão de lista é a seguinte:\n",
    "\n",
    "[<bloco de código> FOR <variável> IN <objeto iterável>]"
   ]
  },
  {
   "cell_type": "code",
   "execution_count": 16,
   "metadata": {},
   "outputs": [
    {
     "data": {
      "text/plain": [
       "['BACON', 'É', 'BOM', 'DEMAIS']"
      ]
     },
     "execution_count": 16,
     "metadata": {},
     "output_type": "execute_result"
    }
   ],
   "source": [
    "ls2 = ['bacon','é','bom','demais']\n",
    "\n",
    "[x.upper() for x in ls2]"
   ]
  },
  {
   "cell_type": "markdown",
   "metadata": {},
   "source": [
    "A compreensão de lista pode ser utilizada para trabalhar com condições lógicas."
   ]
  },
  {
   "cell_type": "code",
   "execution_count": 17,
   "metadata": {},
   "outputs": [
    {
     "data": {
      "text/plain": [
       "['BACON', 'BOM']"
      ]
     },
     "execution_count": 17,
     "metadata": {},
     "output_type": "execute_result"
    }
   ],
   "source": [
    "[x.upper() for x in ls2 if x[0]=='b']"
   ]
  },
  {
   "cell_type": "markdown",
   "metadata": {},
   "source": [
    "## While loop\n",
    "\n",
    "___\n",
    "\n",
    "O while loop executa todo um bloco de código até que sua condição seja considerada falsa ou que ele seja parado utilizando a palavra reservada 'break'."
   ]
  },
  {
   "cell_type": "code",
   "execution_count": 28,
   "metadata": {},
   "outputs": [
    {
     "name": "stdout",
     "output_type": "stream",
     "text": [
      "10 é menor do que 100.\n",
      "20 é menor do que 100.\n",
      "30 é menor do que 100.\n",
      "40 é menor do que 100.\n",
      "50 é menor do que 100.\n",
      "60 é menor do que 100.\n",
      "70 é menor do que 100.\n",
      "80 é menor do que 100.\n",
      "90 é menor do que 100.\n"
     ]
    }
   ],
   "source": [
    "i = 10\n",
    "\n",
    "while i < 100:\n",
    "    print(i,'é menor do que 100.')\n",
    "    i += 10"
   ]
  },
  {
   "cell_type": "code",
   "execution_count": 30,
   "metadata": {},
   "outputs": [
    {
     "data": {
      "text/plain": [
       "100"
      ]
     },
     "execution_count": 30,
     "metadata": {},
     "output_type": "execute_result"
    }
   ],
   "source": [
    "i"
   ]
  },
  {
   "cell_type": "code",
   "execution_count": 33,
   "metadata": {},
   "outputs": [
    {
     "name": "stdout",
     "output_type": "stream",
     "text": [
      "10 é menor do que 100.\n",
      "20 é menor do que 100.\n",
      "30 é menor do que 100.\n",
      "40 é menor do que 100.\n",
      "50 é menor do que 100.\n",
      "60 é menor do que 100.\n",
      "70 é menor do que 100.\n",
      "80 é menor do que 100.\n",
      "90 é menor do que 100.\n",
      "Opa! Cheguei no 100\n"
     ]
    }
   ],
   "source": [
    "## Usando while com else\n",
    "\n",
    "i = 10\n",
    "\n",
    "while i < 100:\n",
    "    print(i,'é menor do que 100.')\n",
    "    i += 10\n",
    "else:\n",
    "    print('Opa! Cheguei no',i)"
   ]
  },
  {
   "cell_type": "code",
   "execution_count": 5,
   "metadata": {},
   "outputs": [
    {
     "name": "stdout",
     "output_type": "stream",
     "text": [
      "10\n",
      "20\n",
      "30\n",
      "40\n",
      "50\n",
      "60\n",
      "70\n",
      "80\n",
      "90\n",
      "100\n"
     ]
    }
   ],
   "source": [
    "## Usando while com break\n",
    "\n",
    "i = 10\n",
    "\n",
    "while i < 100000:\n",
    "    print(i)\n",
    "    \n",
    "    if i >= 100:\n",
    "        break\n",
    "    \n",
    "    i += 10"
   ]
  },
  {
   "cell_type": "markdown",
   "metadata": {},
   "source": [
    "## Exercícios\n",
    "\n",
    "___\n",
    "\n",
    "1 - Construa um programa que dê print em todos os quadrados dos valores de 0 a 10;\n",
    "\n",
    "2 - Construa um programa que encontre a soma de todos os valores pares de 0 a 10;\n",
    "\n",
    "3 - Construa um programa que receba três numeros (a,b,c) e encontre quantos valores entre 'a' e 'b' são divisivéis por 'c' (divisível significa que o resto da divisão deve ser zero). Utilize a seguinte sequência (10,500,23)\n",
    "\n",
    "4 - Construa um programa para ter o seguinte output:\n",
    "    \n",
    "    1 ---- 99\n",
    "    2 ---- 98\n",
    "    3 ---- 97\n",
    "    4 ---- 96\n",
    "    .\n",
    "    .\n",
    "    .\n",
    "    99 ---- 1\n",
    "    \n",
    "5 - Construa um programa que receba um input e tenha o seguinte comportamento:\n",
    "\n",
    "input = 5\n",
    "\n",
    "output:\n",
    "\n",
    "+<br>\n",
    "++<br>\n",
    "+++<br>\n",
    "++++<br>\n",
    "+++++\n",
    "\n",
    "\n",
    "6 - Itere sobre a lista abaixo e crie uma nova lista com todos os nomes em letras maisculuas e com underline ao invés de espaços. Dica: utilize compreensão de listas.\n",
    "\n",
    "lista_nomes = ['Geralt de Rívia','Yennefer de Vengerberd','Triss Marigold','Emhyr var Emreis','Jaskier o bardo']"
   ]
  },
  {
   "cell_type": "code",
   "execution_count": 6,
   "metadata": {},
   "outputs": [
    {
     "name": "stdout",
     "output_type": "stream",
     "text": [
      "0\n",
      "1\n",
      "4\n",
      "9\n",
      "16\n",
      "25\n",
      "36\n",
      "49\n",
      "64\n",
      "81\n",
      "100\n"
     ]
    }
   ],
   "source": [
    "## Questão 1\n",
    "\n",
    "for i in range(0,11):\n",
    "    print(i**2)"
   ]
  },
  {
   "cell_type": "code",
   "execution_count": 10,
   "metadata": {},
   "outputs": [
    {
     "name": "stdout",
     "output_type": "stream",
     "text": [
      "Somando 0\n",
      "Somando 2\n",
      "Somando 4\n",
      "Somando 6\n",
      "Somando 8\n",
      "Somando 10\n",
      ">> A soma é 30\n"
     ]
    }
   ],
   "source": [
    "## Questão 2\n",
    "\n",
    "a = 0\n",
    "\n",
    "for i in range(0,11):\n",
    "    \n",
    "    if i%2 == 0:\n",
    "        print('Somando',i)\n",
    "        a += i\n",
    "\n",
    "print('>> A soma é',a)"
   ]
  },
  {
   "cell_type": "code",
   "execution_count": 12,
   "metadata": {},
   "outputs": [
    {
     "name": "stdout",
     "output_type": "stream",
     "text": [
      ">> Quantidade de divisores 21\n"
     ]
    }
   ],
   "source": [
    "## Questão 3\n",
    "\n",
    "a = 10\n",
    "b = 500\n",
    "c = 23\n",
    "\n",
    "div = 0\n",
    "\n",
    "for i in range(10,501):\n",
    "    \n",
    "    if i%c == 0:\n",
    "        div += 1\n",
    "\n",
    "print('>> Quantidade de divisores',div)"
   ]
  },
  {
   "cell_type": "code",
   "execution_count": 13,
   "metadata": {},
   "outputs": [
    {
     "name": "stdout",
     "output_type": "stream",
     "text": [
      "1 ---- 99\n",
      "2 ---- 98\n",
      "3 ---- 97\n",
      "4 ---- 96\n",
      "5 ---- 95\n",
      "6 ---- 94\n",
      "7 ---- 93\n",
      "8 ---- 92\n",
      "9 ---- 91\n",
      "10 ---- 90\n",
      "11 ---- 89\n",
      "12 ---- 88\n",
      "13 ---- 87\n",
      "14 ---- 86\n",
      "15 ---- 85\n",
      "16 ---- 84\n",
      "17 ---- 83\n",
      "18 ---- 82\n",
      "19 ---- 81\n",
      "20 ---- 80\n",
      "21 ---- 79\n",
      "22 ---- 78\n",
      "23 ---- 77\n",
      "24 ---- 76\n",
      "25 ---- 75\n",
      "26 ---- 74\n",
      "27 ---- 73\n",
      "28 ---- 72\n",
      "29 ---- 71\n",
      "30 ---- 70\n",
      "31 ---- 69\n",
      "32 ---- 68\n",
      "33 ---- 67\n",
      "34 ---- 66\n",
      "35 ---- 65\n",
      "36 ---- 64\n",
      "37 ---- 63\n",
      "38 ---- 62\n",
      "39 ---- 61\n",
      "40 ---- 60\n",
      "41 ---- 59\n",
      "42 ---- 58\n",
      "43 ---- 57\n",
      "44 ---- 56\n",
      "45 ---- 55\n",
      "46 ---- 54\n",
      "47 ---- 53\n",
      "48 ---- 52\n",
      "49 ---- 51\n",
      "50 ---- 50\n",
      "51 ---- 49\n",
      "52 ---- 48\n",
      "53 ---- 47\n",
      "54 ---- 46\n",
      "55 ---- 45\n",
      "56 ---- 44\n",
      "57 ---- 43\n",
      "58 ---- 42\n",
      "59 ---- 41\n",
      "60 ---- 40\n",
      "61 ---- 39\n",
      "62 ---- 38\n",
      "63 ---- 37\n",
      "64 ---- 36\n",
      "65 ---- 35\n",
      "66 ---- 34\n",
      "67 ---- 33\n",
      "68 ---- 32\n",
      "69 ---- 31\n",
      "70 ---- 30\n",
      "71 ---- 29\n",
      "72 ---- 28\n",
      "73 ---- 27\n",
      "74 ---- 26\n",
      "75 ---- 25\n",
      "76 ---- 24\n",
      "77 ---- 23\n",
      "78 ---- 22\n",
      "79 ---- 21\n",
      "80 ---- 20\n",
      "81 ---- 19\n",
      "82 ---- 18\n",
      "83 ---- 17\n",
      "84 ---- 16\n",
      "85 ---- 15\n",
      "86 ---- 14\n",
      "87 ---- 13\n",
      "88 ---- 12\n",
      "89 ---- 11\n",
      "90 ---- 10\n",
      "91 ---- 9\n",
      "92 ---- 8\n",
      "93 ---- 7\n",
      "94 ---- 6\n",
      "95 ---- 5\n",
      "96 ---- 4\n",
      "97 ---- 3\n",
      "98 ---- 2\n",
      "99 ---- 1\n"
     ]
    }
   ],
   "source": [
    "## Questão 4\n",
    "\n",
    "for i in range(1,100):\n",
    "    print(i,'----',100-i)"
   ]
  },
  {
   "cell_type": "code",
   "execution_count": 14,
   "metadata": {},
   "outputs": [
    {
     "name": "stdout",
     "output_type": "stream",
     "text": [
      "+\n",
      "++\n",
      "+++\n",
      "++++\n",
      "+++++\n"
     ]
    }
   ],
   "source": [
    "## Questão 5\n",
    "\n",
    "entrada = 5\n",
    "\n",
    "for i in range(1,entrada+1):\n",
    "    print('+'*i)"
   ]
  },
  {
   "cell_type": "code",
   "execution_count": 18,
   "metadata": {},
   "outputs": [
    {
     "data": {
      "text/plain": [
       "['geralt_de_rívia',\n",
       " 'yennefer_de_vengerberd',\n",
       " 'triss_marigold',\n",
       " 'emhyr_var_emreis',\n",
       " 'jaskier_o_bardo']"
      ]
     },
     "execution_count": 18,
     "metadata": {},
     "output_type": "execute_result"
    }
   ],
   "source": [
    "## Questão 6\n",
    "\n",
    "lista_nomes = ['Geralt de Rívia','Yennefer de Vengerberd','Triss Marigold','Emhyr var Emreis','Jaskier o bardo']\n",
    "\n",
    "[x.lower().replace(' ','_') for x in lista_nomes]"
   ]
  }
 ],
 "metadata": {
  "kernelspec": {
   "display_name": "Python 3.7.5 64-bit ('miniconda3': virtualenv)",
   "language": "python",
   "name": "python37564bitminiconda3virtualenvaae6906fdf41426e8b8c7cdd03524cfb"
  },
  "language_info": {
   "codemirror_mode": {
    "name": "ipython",
    "version": 3
   },
   "file_extension": ".py",
   "mimetype": "text/x-python",
   "name": "python",
   "nbconvert_exporter": "python",
   "pygments_lexer": "ipython3",
   "version": "3.7.5"
  }
 },
 "nbformat": 4,
 "nbformat_minor": 4
}
