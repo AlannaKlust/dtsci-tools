{
 "cells": [
  {
   "cell_type": "markdown",
   "metadata": {},
   "source": [
    "# Funções built-in\n",
    "\n",
    "___\n",
    "\n",
    "O python tem vários funções built-in, ou seja, funções que já veem na linguagem e não precisam ser importadas. Elas podem ser vistas em: https://docs.python.org/3/library/functions.html"
   ]
  },
  {
   "cell_type": "markdown",
   "metadata": {},
   "source": [
    "### zip\n",
    "\n",
    "___\n",
    "\n",
    "A função zip junta os valores de dois iteráveis valor a valor."
   ]
  },
  {
   "cell_type": "code",
   "execution_count": 1,
   "metadata": {},
   "outputs": [
    {
     "name": "stdout",
     "output_type": "stream",
     "text": [
      "1 10\n",
      "2 20\n",
      "3 30\n",
      "4 40\n",
      "5 50\n",
      "6 60\n",
      "7 70\n",
      "8 80\n",
      "9 90\n",
      "10 100\n"
     ]
    }
   ],
   "source": [
    "x = [1,2,3,4,5,6,7,8,9,10]\n",
    "y = [10,20,30,40,50,60,70,80,90,100]\n",
    "\n",
    "for a,b in zip(x,y):\n",
    "    print(a,b)"
   ]
  },
  {
   "cell_type": "code",
   "execution_count": 2,
   "metadata": {},
   "outputs": [
    {
     "name": "stdout",
     "output_type": "stream",
     "text": [
      "(1, 10)\n",
      "(2, 20)\n",
      "(3, 30)\n",
      "(4, 40)\n",
      "(5, 50)\n",
      "(6, 60)\n",
      "(7, 70)\n",
      "(8, 80)\n",
      "(9, 90)\n",
      "(10, 100)\n"
     ]
    }
   ],
   "source": [
    "## a função zip gera tuplas que podem ser acessadas\n",
    "\n",
    "for a in zip(x,y):\n",
    "    print(a)"
   ]
  },
  {
   "cell_type": "code",
   "execution_count": 6,
   "metadata": {},
   "outputs": [
    {
     "data": {
      "text/plain": [
       "[(1, 2, 3, 4, 5), ('a', 'b', 'c', 'd', 'e')]"
      ]
     },
     "execution_count": 6,
     "metadata": {},
     "output_type": "execute_result"
    }
   ],
   "source": [
    "## dando unzip nem uma série de tuplas (basta usar *)\n",
    "\n",
    "x = [(1,'a'),(2,'b'),(3,'c'),(4,'d'),(5,'e')]\n",
    "\n",
    "list(zip(*x))"
   ]
  },
  {
   "cell_type": "markdown",
   "metadata": {},
   "source": [
    "### enumerate\n",
    "\n",
    "___\n",
    "\n",
    "Enumerate cria um contador para cada iteração de um iterável."
   ]
  },
  {
   "cell_type": "code",
   "execution_count": 9,
   "metadata": {},
   "outputs": [
    {
     "data": {
      "text/plain": [
       "[(0, 'a'),\n",
       " (1, 'b'),\n",
       " (2, 'c'),\n",
       " (3, 'd'),\n",
       " (4, 'e'),\n",
       " (5, 'f'),\n",
       " (6, 'g'),\n",
       " (7, 'h'),\n",
       " (8, 'i'),\n",
       " (9, 'j'),\n",
       " (10, 'k'),\n",
       " (11, 'l'),\n",
       " (12, 'm'),\n",
       " (13, 'n'),\n",
       " (14, 'o'),\n",
       " (15, 'p'),\n",
       " (16, 'q'),\n",
       " (17, 'r'),\n",
       " (18, 's')]"
      ]
     },
     "execution_count": 9,
     "metadata": {},
     "output_type": "execute_result"
    }
   ],
   "source": [
    "ls = ['a','b','c','d','e','f','g','h','i','j','k','l','m','n','o','p','q','r','s']\n",
    "\n",
    "list(enumerate(ls))"
   ]
  },
  {
   "cell_type": "code",
   "execution_count": 10,
   "metadata": {},
   "outputs": [
    {
     "data": {
      "text/plain": [
       "[(1, 'a'),\n",
       " (2, 'b'),\n",
       " (3, 'c'),\n",
       " (4, 'd'),\n",
       " (5, 'e'),\n",
       " (6, 'f'),\n",
       " (7, 'g'),\n",
       " (8, 'h'),\n",
       " (9, 'i'),\n",
       " (10, 'j'),\n",
       " (11, 'k'),\n",
       " (12, 'l'),\n",
       " (13, 'm'),\n",
       " (14, 'n'),\n",
       " (15, 'o'),\n",
       " (16, 'p'),\n",
       " (17, 'q'),\n",
       " (18, 'r'),\n",
       " (19, 's')]"
      ]
     },
     "execution_count": 10,
     "metadata": {},
     "output_type": "execute_result"
    }
   ],
   "source": [
    "ls = ['a','b','c','d','e','f','g','h','i','j','k','l','m','n','o','p','q','r','s']\n",
    "\n",
    "list(enumerate(ls,start=1))"
   ]
  },
  {
   "cell_type": "markdown",
   "metadata": {},
   "source": [
    "### map\n",
    "\n",
    "___\n",
    "\n",
    "A função map retorna um objeto iterável do resultado da aplicação de uma função para cada item de um iterável. A sintaxe é a seguinte:\n",
    "\n",
    "map(<função>,<iterável>)"
   ]
  },
  {
   "cell_type": "code",
   "execution_count": 1,
   "metadata": {},
   "outputs": [],
   "source": [
    "ls = [1,2,3,4,5,6,7,8,9,10]\n",
    "\n",
    "def square(value):\n",
    "    return value**2"
   ]
  },
  {
   "cell_type": "code",
   "execution_count": 2,
   "metadata": {},
   "outputs": [
    {
     "data": {
      "text/plain": [
       "<map at 0x7f8f52697290>"
      ]
     },
     "execution_count": 2,
     "metadata": {},
     "output_type": "execute_result"
    }
   ],
   "source": [
    "map(square,ls)"
   ]
  },
  {
   "cell_type": "code",
   "execution_count": 3,
   "metadata": {},
   "outputs": [
    {
     "data": {
      "text/plain": [
       "[1, 4, 9, 16, 25, 36, 49, 64, 81, 100]"
      ]
     },
     "execution_count": 3,
     "metadata": {},
     "output_type": "execute_result"
    }
   ],
   "source": [
    "list(map(square,ls))"
   ]
  },
  {
   "cell_type": "code",
   "execution_count": 4,
   "metadata": {},
   "outputs": [
    {
     "data": {
      "text/plain": [
       "[11, 13, 15, 17, 19, 21, 23, 25, 27, 29]"
      ]
     },
     "execution_count": 4,
     "metadata": {},
     "output_type": "execute_result"
    }
   ],
   "source": [
    "ls2 = [10,11,12,13,14,15,16,17,18,19,20]\n",
    "\n",
    "list(map(lambda x,y: x+y, ls, ls2))"
   ]
  },
  {
   "cell_type": "code",
   "execution_count": 21,
   "metadata": {},
   "outputs": [],
   "source": [
    "a = map(lambda x: x**0.5, ls)"
   ]
  },
  {
   "cell_type": "code",
   "execution_count": 22,
   "metadata": {},
   "outputs": [
    {
     "name": "stdout",
     "output_type": "stream",
     "text": [
      "1.0\n",
      "1.4142135623730951\n",
      "1.7320508075688772\n",
      "2.0\n",
      "2.23606797749979\n",
      "2.449489742783178\n",
      "2.6457513110645907\n",
      "2.8284271247461903\n",
      "3.0\n",
      "3.1622776601683795\n"
     ]
    }
   ],
   "source": [
    "for value in range(len(ls)):\n",
    "    print(next(a))"
   ]
  },
  {
   "cell_type": "markdown",
   "metadata": {},
   "source": [
    "### filter\n",
    "\n",
    "___\n",
    "\n",
    "A função filter tem a mesma sintaxe da função map. Porém a função que deverá ser passada pra ela deve, obrigatoriamente, ter como saída um valor booleano.\n",
    "\n",
    "filter(<função>,<iterável>)"
   ]
  },
  {
   "cell_type": "code",
   "execution_count": 24,
   "metadata": {},
   "outputs": [
    {
     "data": {
      "text/plain": [
       "['bacon']"
      ]
     },
     "execution_count": 24,
     "metadata": {},
     "output_type": "execute_result"
    }
   ],
   "source": [
    "cafe = ['bacon','café','água']\n",
    "\n",
    "list(filter(lambda x: x[0] == 'b',cafe))"
   ]
  },
  {
   "cell_type": "code",
   "execution_count": 25,
   "metadata": {},
   "outputs": [],
   "source": [
    "def start_b(value):\n",
    "    if value[0] == 'b':\n",
    "        return True\n",
    "    else:\n",
    "        return False"
   ]
  },
  {
   "cell_type": "code",
   "execution_count": 26,
   "metadata": {},
   "outputs": [
    {
     "data": {
      "text/plain": [
       "['bacon']"
      ]
     },
     "execution_count": 26,
     "metadata": {},
     "output_type": "execute_result"
    }
   ],
   "source": [
    "list(filter(start_b,cafe))"
   ]
  },
  {
   "cell_type": "markdown",
   "metadata": {},
   "source": [
    "# Exercícios\n",
    "\n",
    "\n",
    "1 - Junte as duas listas abaixo.\n",
    "\n",
    "nomes = ['nasser','joao','mateus']\n",
    "salarios = [1000,1500,5000]\n",
    "\n",
    "2 - Junte as duas listas abaixo, iniciando no primeiro valor e iterando a cada dois valores.\n",
    "\n",
    "bandas = ['c2c','the neighborhood','stuck in the sound','20syl','daft punk']\n",
    "musicas = ['delta','sweather weather','let\\'s go','bucket(remix)','human after all']\n",
    "\n",
    "3 - Utilize a função upper() nos nomes de bandas do exercício anterior onde o tamanho do nome é menor que o triplo do índice.\n",
    "\n",
    "4 - A lista abaixo demonstra o silhouette_score para várias iterações do treinamento de um mesmo modelo de clusterização. Cada iteração testa um valor k de clusters e gera um silhouette_score. Crie um dicionário demonstrando o silhouette_score para cada K. (inicie com k=2).\n",
    "\n",
    "sil_score = [-0.89,0.88,0.45,0.77,0.788,0.998,0.77,-0.8,-0.5]\n",
    "\n",
    "5 - Considera as duas listas abaixo, a primeira demonstra o valor real de venda de uma casa e a segunda demonstra o valor recomendado por um modelo de regressão. Gere uma terceira lista com o resíduo de cada ponto. O resíduo é o resultado da subtração entre o valor real e o valor predito para determinado ponto.\n",
    "\n",
    "real = [150358,368525,532152,144789]\n",
    "predito = [162122,365255,533200,185789]\n",
    "\n",
    "6 - Use o resultado da questão 5 e filtre somente os valores que são positivos.\n",
    "\n",
    "7 - Ainda usando o resultado da questão 5 calcule, sem utilizar bibliotecas, o RMSE do valor predito. Referência: https://tinyurl.com/yd9ljcmj (modificador de dificuldade: fazer todo o cálculo em somente uma linha)"
   ]
  },
  {
   "cell_type": "code",
   "execution_count": 29,
   "metadata": {},
   "outputs": [
    {
     "data": {
      "text/plain": [
       "[('nasser', 1000), ('joao', 1500), ('mateus', 5000)]"
      ]
     },
     "execution_count": 29,
     "metadata": {},
     "output_type": "execute_result"
    }
   ],
   "source": [
    "## Questão 1\n",
    "\n",
    "nomes = ['nasser','joao','mateus']\n",
    "salarios = [1000,1500,5000]\n",
    "\n",
    "list(zip(nomes,salarios))"
   ]
  },
  {
   "cell_type": "code",
   "execution_count": 30,
   "metadata": {},
   "outputs": [
    {
     "data": {
      "text/plain": [
       "[('c2c', 'delta'),\n",
       " ('stuck in the sound', \"let's go\"),\n",
       " ('daft punk', 'human after all')]"
      ]
     },
     "execution_count": 30,
     "metadata": {},
     "output_type": "execute_result"
    }
   ],
   "source": [
    "## Questão 2\n",
    "\n",
    "bandas = ['c2c','the neighborhood','stuck in the sound','20syl','daft punk']\n",
    "musicas = ['delta','sweather weather','let\\'s go','bucket(remix)','human after all']\n",
    "\n",
    "list(zip(bandas[::2],musicas[::2]))"
   ]
  },
  {
   "cell_type": "code",
   "execution_count": 36,
   "metadata": {},
   "outputs": [
    {
     "name": "stdout",
     "output_type": "stream",
     "text": [
      "Banda: 20SYL, tamanho do nome 5, triplo do índice 9\n",
      "Banda: DAFT PUNK, tamanho do nome 9, triplo do índice 12\n"
     ]
    },
    {
     "data": {
      "text/plain": [
       "['c2c', 'the neighborhood', 'stuck in the sound', '20SYL', 'DAFT PUNK']"
      ]
     },
     "execution_count": 36,
     "metadata": {},
     "output_type": "execute_result"
    }
   ],
   "source": [
    "## Questão 3\n",
    "\n",
    "for i,nome in enumerate(bandas):\n",
    "    \n",
    "    if len(nome) < i*3:\n",
    "        \n",
    "        print(f'Banda: {nome}, tamanho do nome {len(nome)}, triplo do índice {i*3}')\n",
    "        bandas[i] = nome.upper()\n",
    "    else:\n",
    "        pass\n",
    "    \n",
    "bandas"
   ]
  },
  {
   "cell_type": "code",
   "execution_count": 37,
   "metadata": {},
   "outputs": [
    {
     "data": {
      "text/plain": [
       "{2: -0.89,\n",
       " 3: 0.88,\n",
       " 4: 0.45,\n",
       " 5: 0.77,\n",
       " 6: 0.788,\n",
       " 7: 0.998,\n",
       " 8: 0.77,\n",
       " 9: -0.8,\n",
       " 10: -0.5}"
      ]
     },
     "execution_count": 37,
     "metadata": {},
     "output_type": "execute_result"
    }
   ],
   "source": [
    "## Questão 4\n",
    "\n",
    "sil_score = [-0.89,0.88,0.45,0.77,0.788,0.998,0.77,-0.8,-0.5]\n",
    "\n",
    "sil_dict = {}\n",
    "\n",
    "for i,sil_score in enumerate(sil_score,start=2):\n",
    "    sil_dict[i] = sil_score\n",
    "    \n",
    "sil_dict"
   ]
  },
  {
   "cell_type": "code",
   "execution_count": 38,
   "metadata": {},
   "outputs": [
    {
     "data": {
      "text/plain": [
       "[-11764, 3270, -1048, -41000]"
      ]
     },
     "execution_count": 38,
     "metadata": {},
     "output_type": "execute_result"
    }
   ],
   "source": [
    "## Questão 5\n",
    "\n",
    "real = [150358,368525,532152,144789]\n",
    "predito = [162122,365255,533200,185789]\n",
    "\n",
    "list(map(lambda x,y: x-y,real,predito))"
   ]
  },
  {
   "cell_type": "code",
   "execution_count": 39,
   "metadata": {},
   "outputs": [
    {
     "data": {
      "text/plain": [
       "[3270]"
      ]
     },
     "execution_count": 39,
     "metadata": {},
     "output_type": "execute_result"
    }
   ],
   "source": [
    "## Questão 6\n",
    "\n",
    "resultado = [-11764, 3270, -1048, -41000]\n",
    "\n",
    "list(filter(lambda x: x>0,resultado))"
   ]
  },
  {
   "cell_type": "code",
   "execution_count": 42,
   "metadata": {},
   "outputs": [
    {
     "data": {
      "text/plain": [
       "21396.161454803056"
      ]
     },
     "execution_count": 42,
     "metadata": {},
     "output_type": "execute_result"
    }
   ],
   "source": [
    "## Questão 6\n",
    "\n",
    "(sum(list(map(lambda x,y: (x-y)**2,real,predito)))/len(real))**0.5"
   ]
  }
 ],
 "metadata": {
  "kernelspec": {
   "display_name": "Python 3.7.5 64-bit ('miniconda3': virtualenv)",
   "language": "python",
   "name": "python37564bitminiconda3virtualenvaae6906fdf41426e8b8c7cdd03524cfb"
  },
  "language_info": {
   "codemirror_mode": {
    "name": "ipython",
    "version": 3
   },
   "file_extension": ".py",
   "mimetype": "text/x-python",
   "name": "python",
   "nbconvert_exporter": "python",
   "pygments_lexer": "ipython3",
   "version": "3.7.5"
  }
 },
 "nbformat": 4,
 "nbformat_minor": 4
}
